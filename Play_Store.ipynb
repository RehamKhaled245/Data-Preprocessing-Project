{
 "cells": [
  {
   "cell_type": "markdown",
   "metadata": {},
   "source": [
    "# Introduction\n",
    "\n",
    "The Play Store hosts a wide range of applications, and the data associated with these apps offers significant potential for analysis. Developers and businesses can leverage this data to understand market trends, optimize their apps, and maximize user engagement.\n",
    "\n",
    "**In this project**, we will perform a data cleaning and preprocessing task on the Play Store apps dataset, addressing missing values, outliers, and other issues while extracting valuable insights.\n"
   ]
  },
  {
   "cell_type": "markdown",
   "metadata": {},
   "source": [
    "# Data description\n",
    "| Column Name       | Description  |\n",
    "|------------------|-------------|\n",
    "| **Application name** | Name of the application |\n",
    "| **Category** | Category the app belongs to |\n",
    "| **Rating** | Overall user rating of the app (as when scraped) |\n",
    "| **Reviews** | Number of user reviews for the app (as when scraped) |\n",
    "| **Size** | Size of the app (as when scraped) |\n",
    "| **Installs** | Number of user downloads/installs for the app (as when scraped) |\n",
    "| **Type** | Whether the app is paid or free |\n",
    "| **Price** | Price of the app (as when scraped) |\n",
    "| **Content Rating** | Age group the app is targeted at (e.g., Children / Mature 21+ / Adult) |\n",
    "| **Genres** | An app can belong to multiple genres (apart from its main category). For example, a musical family game will belong to multiple genres. |\n"
   ]
  },
  {
   "cell_type": "code",
   "execution_count": 553,
   "metadata": {},
   "outputs": [],
   "source": [
    "import pandas as pd\n",
    "import numpy as np"
   ]
  },
  {
   "cell_type": "code",
   "execution_count": 554,
   "metadata": {},
   "outputs": [
    {
     "data": {
      "application/vnd.microsoft.datawrangler.viewer.v0+json": {
       "columns": [
        {
         "name": "index",
         "rawType": "int64",
         "type": "integer"
        },
        {
         "name": "App",
         "rawType": "object",
         "type": "string"
        },
        {
         "name": "Category",
         "rawType": "object",
         "type": "string"
        },
        {
         "name": "Rating",
         "rawType": "float64",
         "type": "float"
        },
        {
         "name": "Reviews",
         "rawType": "object",
         "type": "string"
        },
        {
         "name": "Size",
         "rawType": "object",
         "type": "string"
        },
        {
         "name": "Installs",
         "rawType": "object",
         "type": "string"
        },
        {
         "name": "Type",
         "rawType": "object",
         "type": "string"
        },
        {
         "name": "Price",
         "rawType": "object",
         "type": "string"
        },
        {
         "name": "Content Rating",
         "rawType": "object",
         "type": "string"
        },
        {
         "name": "Genres",
         "rawType": "object",
         "type": "string"
        },
        {
         "name": "Last Updated",
         "rawType": "object",
         "type": "string"
        },
        {
         "name": "Current Ver",
         "rawType": "object",
         "type": "string"
        },
        {
         "name": "Android Ver",
         "rawType": "object",
         "type": "string"
        }
       ],
       "conversionMethod": "pd.DataFrame",
       "ref": "9d464a7a-488f-45fd-bc8d-8d6c4d62122d",
       "rows": [
        [
         "0",
         "Photo Editor & Candy Camera & Grid & ScrapBook",
         "ART_AND_DESIGN",
         "4.1",
         "159",
         "19M",
         "10,000+",
         "Free",
         "0",
         "Everyone",
         "Art & Design",
         "January 7, 2018",
         "1.0.0",
         "4.0.3 and up"
        ],
        [
         "1",
         "Coloring book moana",
         "ART_AND_DESIGN",
         "3.9",
         "967",
         "14M",
         "500,000+",
         "Free",
         "0",
         "Everyone",
         "Art & Design;Pretend Play",
         "January 15, 2018",
         "2.0.0",
         "4.0.3 and up"
        ],
        [
         "2",
         "U Launcher Lite – FREE Live Cool Themes, Hide Apps",
         "ART_AND_DESIGN",
         "4.7",
         "87510",
         "8.7M",
         "5,000,000+",
         "Free",
         "0",
         "Everyone",
         "Art & Design",
         "August 1, 2018",
         "1.2.4",
         "4.0.3 and up"
        ],
        [
         "3",
         "Sketch - Draw & Paint",
         "ART_AND_DESIGN",
         "4.5",
         "215644",
         "25M",
         "50,000,000+",
         "Free",
         "0",
         "Teen",
         "Art & Design",
         "June 8, 2018",
         "Varies with device",
         "4.2 and up"
        ],
        [
         "4",
         "Pixel Draw - Number Art Coloring Book",
         "ART_AND_DESIGN",
         "4.3",
         "967",
         "2.8M",
         "100,000+",
         "Free",
         "0",
         "Everyone",
         "Art & Design;Creativity",
         "June 20, 2018",
         "1.1",
         "4.4 and up"
        ]
       ],
       "shape": {
        "columns": 13,
        "rows": 5
       }
      },
      "text/html": [
       "<div>\n",
       "<style scoped>\n",
       "    .dataframe tbody tr th:only-of-type {\n",
       "        vertical-align: middle;\n",
       "    }\n",
       "\n",
       "    .dataframe tbody tr th {\n",
       "        vertical-align: top;\n",
       "    }\n",
       "\n",
       "    .dataframe thead th {\n",
       "        text-align: right;\n",
       "    }\n",
       "</style>\n",
       "<table border=\"1\" class=\"dataframe\">\n",
       "  <thead>\n",
       "    <tr style=\"text-align: right;\">\n",
       "      <th></th>\n",
       "      <th>App</th>\n",
       "      <th>Category</th>\n",
       "      <th>Rating</th>\n",
       "      <th>Reviews</th>\n",
       "      <th>Size</th>\n",
       "      <th>Installs</th>\n",
       "      <th>Type</th>\n",
       "      <th>Price</th>\n",
       "      <th>Content Rating</th>\n",
       "      <th>Genres</th>\n",
       "      <th>Last Updated</th>\n",
       "      <th>Current Ver</th>\n",
       "      <th>Android Ver</th>\n",
       "    </tr>\n",
       "  </thead>\n",
       "  <tbody>\n",
       "    <tr>\n",
       "      <th>0</th>\n",
       "      <td>Photo Editor &amp; Candy Camera &amp; Grid &amp; ScrapBook</td>\n",
       "      <td>ART_AND_DESIGN</td>\n",
       "      <td>4.1</td>\n",
       "      <td>159</td>\n",
       "      <td>19M</td>\n",
       "      <td>10,000+</td>\n",
       "      <td>Free</td>\n",
       "      <td>0</td>\n",
       "      <td>Everyone</td>\n",
       "      <td>Art &amp; Design</td>\n",
       "      <td>January 7, 2018</td>\n",
       "      <td>1.0.0</td>\n",
       "      <td>4.0.3 and up</td>\n",
       "    </tr>\n",
       "    <tr>\n",
       "      <th>1</th>\n",
       "      <td>Coloring book moana</td>\n",
       "      <td>ART_AND_DESIGN</td>\n",
       "      <td>3.9</td>\n",
       "      <td>967</td>\n",
       "      <td>14M</td>\n",
       "      <td>500,000+</td>\n",
       "      <td>Free</td>\n",
       "      <td>0</td>\n",
       "      <td>Everyone</td>\n",
       "      <td>Art &amp; Design;Pretend Play</td>\n",
       "      <td>January 15, 2018</td>\n",
       "      <td>2.0.0</td>\n",
       "      <td>4.0.3 and up</td>\n",
       "    </tr>\n",
       "    <tr>\n",
       "      <th>2</th>\n",
       "      <td>U Launcher Lite – FREE Live Cool Themes, Hide ...</td>\n",
       "      <td>ART_AND_DESIGN</td>\n",
       "      <td>4.7</td>\n",
       "      <td>87510</td>\n",
       "      <td>8.7M</td>\n",
       "      <td>5,000,000+</td>\n",
       "      <td>Free</td>\n",
       "      <td>0</td>\n",
       "      <td>Everyone</td>\n",
       "      <td>Art &amp; Design</td>\n",
       "      <td>August 1, 2018</td>\n",
       "      <td>1.2.4</td>\n",
       "      <td>4.0.3 and up</td>\n",
       "    </tr>\n",
       "    <tr>\n",
       "      <th>3</th>\n",
       "      <td>Sketch - Draw &amp; Paint</td>\n",
       "      <td>ART_AND_DESIGN</td>\n",
       "      <td>4.5</td>\n",
       "      <td>215644</td>\n",
       "      <td>25M</td>\n",
       "      <td>50,000,000+</td>\n",
       "      <td>Free</td>\n",
       "      <td>0</td>\n",
       "      <td>Teen</td>\n",
       "      <td>Art &amp; Design</td>\n",
       "      <td>June 8, 2018</td>\n",
       "      <td>Varies with device</td>\n",
       "      <td>4.2 and up</td>\n",
       "    </tr>\n",
       "    <tr>\n",
       "      <th>4</th>\n",
       "      <td>Pixel Draw - Number Art Coloring Book</td>\n",
       "      <td>ART_AND_DESIGN</td>\n",
       "      <td>4.3</td>\n",
       "      <td>967</td>\n",
       "      <td>2.8M</td>\n",
       "      <td>100,000+</td>\n",
       "      <td>Free</td>\n",
       "      <td>0</td>\n",
       "      <td>Everyone</td>\n",
       "      <td>Art &amp; Design;Creativity</td>\n",
       "      <td>June 20, 2018</td>\n",
       "      <td>1.1</td>\n",
       "      <td>4.4 and up</td>\n",
       "    </tr>\n",
       "  </tbody>\n",
       "</table>\n",
       "</div>"
      ],
      "text/plain": [
       "                                                 App        Category  Rating  \\\n",
       "0     Photo Editor & Candy Camera & Grid & ScrapBook  ART_AND_DESIGN     4.1   \n",
       "1                                Coloring book moana  ART_AND_DESIGN     3.9   \n",
       "2  U Launcher Lite – FREE Live Cool Themes, Hide ...  ART_AND_DESIGN     4.7   \n",
       "3                              Sketch - Draw & Paint  ART_AND_DESIGN     4.5   \n",
       "4              Pixel Draw - Number Art Coloring Book  ART_AND_DESIGN     4.3   \n",
       "\n",
       "  Reviews  Size     Installs  Type Price Content Rating  \\\n",
       "0     159   19M      10,000+  Free     0       Everyone   \n",
       "1     967   14M     500,000+  Free     0       Everyone   \n",
       "2   87510  8.7M   5,000,000+  Free     0       Everyone   \n",
       "3  215644   25M  50,000,000+  Free     0           Teen   \n",
       "4     967  2.8M     100,000+  Free     0       Everyone   \n",
       "\n",
       "                      Genres      Last Updated         Current Ver  \\\n",
       "0               Art & Design   January 7, 2018               1.0.0   \n",
       "1  Art & Design;Pretend Play  January 15, 2018               2.0.0   \n",
       "2               Art & Design    August 1, 2018               1.2.4   \n",
       "3               Art & Design      June 8, 2018  Varies with device   \n",
       "4    Art & Design;Creativity     June 20, 2018                 1.1   \n",
       "\n",
       "    Android Ver  \n",
       "0  4.0.3 and up  \n",
       "1  4.0.3 and up  \n",
       "2  4.0.3 and up  \n",
       "3    4.2 and up  \n",
       "4    4.4 and up  "
      ]
     },
     "execution_count": 554,
     "metadata": {},
     "output_type": "execute_result"
    }
   ],
   "source": [
    "df = pd.read_csv(\"googleplaystore.csv\")\n",
    "df.head()"
   ]
  },
  {
   "cell_type": "code",
   "execution_count": 555,
   "metadata": {},
   "outputs": [
    {
     "name": "stdout",
     "output_type": "stream",
     "text": [
      "<class 'pandas.core.frame.DataFrame'>\n",
      "RangeIndex: 10841 entries, 0 to 10840\n",
      "Data columns (total 13 columns):\n",
      " #   Column          Non-Null Count  Dtype  \n",
      "---  ------          --------------  -----  \n",
      " 0   App             10841 non-null  object \n",
      " 1   Category        10841 non-null  object \n",
      " 2   Rating          9367 non-null   float64\n",
      " 3   Reviews         10841 non-null  object \n",
      " 4   Size            10841 non-null  object \n",
      " 5   Installs        10841 non-null  object \n",
      " 6   Type            10840 non-null  object \n",
      " 7   Price           10841 non-null  object \n",
      " 8   Content Rating  10840 non-null  object \n",
      " 9   Genres          10841 non-null  object \n",
      " 10  Last Updated    10841 non-null  object \n",
      " 11  Current Ver     10833 non-null  object \n",
      " 12  Android Ver     10838 non-null  object \n",
      "dtypes: float64(1), object(12)\n",
      "memory usage: 1.1+ MB\n"
     ]
    }
   ],
   "source": [
    "df.info()"
   ]
  },
  {
   "cell_type": "code",
   "execution_count": 556,
   "metadata": {},
   "outputs": [
    {
     "data": {
      "application/vnd.microsoft.datawrangler.viewer.v0+json": {
       "columns": [
        {
         "name": "index",
         "rawType": "object",
         "type": "string"
        },
        {
         "name": "Rating",
         "rawType": "float64",
         "type": "float"
        }
       ],
       "conversionMethod": "pd.DataFrame",
       "ref": "8d8356b4-9f2e-4b3d-89b7-eb9fcd9d41b3",
       "rows": [
        [
         "count",
         "9367.0"
        ],
        [
         "mean",
         "4.193338315362443"
        ],
        [
         "std",
         "0.5374313031477587"
        ],
        [
         "min",
         "1.0"
        ],
        [
         "25%",
         "4.0"
        ],
        [
         "50%",
         "4.3"
        ],
        [
         "75%",
         "4.5"
        ],
        [
         "max",
         "19.0"
        ]
       ],
       "shape": {
        "columns": 1,
        "rows": 8
       }
      },
      "text/html": [
       "<div>\n",
       "<style scoped>\n",
       "    .dataframe tbody tr th:only-of-type {\n",
       "        vertical-align: middle;\n",
       "    }\n",
       "\n",
       "    .dataframe tbody tr th {\n",
       "        vertical-align: top;\n",
       "    }\n",
       "\n",
       "    .dataframe thead th {\n",
       "        text-align: right;\n",
       "    }\n",
       "</style>\n",
       "<table border=\"1\" class=\"dataframe\">\n",
       "  <thead>\n",
       "    <tr style=\"text-align: right;\">\n",
       "      <th></th>\n",
       "      <th>Rating</th>\n",
       "    </tr>\n",
       "  </thead>\n",
       "  <tbody>\n",
       "    <tr>\n",
       "      <th>count</th>\n",
       "      <td>9367.000000</td>\n",
       "    </tr>\n",
       "    <tr>\n",
       "      <th>mean</th>\n",
       "      <td>4.193338</td>\n",
       "    </tr>\n",
       "    <tr>\n",
       "      <th>std</th>\n",
       "      <td>0.537431</td>\n",
       "    </tr>\n",
       "    <tr>\n",
       "      <th>min</th>\n",
       "      <td>1.000000</td>\n",
       "    </tr>\n",
       "    <tr>\n",
       "      <th>25%</th>\n",
       "      <td>4.000000</td>\n",
       "    </tr>\n",
       "    <tr>\n",
       "      <th>50%</th>\n",
       "      <td>4.300000</td>\n",
       "    </tr>\n",
       "    <tr>\n",
       "      <th>75%</th>\n",
       "      <td>4.500000</td>\n",
       "    </tr>\n",
       "    <tr>\n",
       "      <th>max</th>\n",
       "      <td>19.000000</td>\n",
       "    </tr>\n",
       "  </tbody>\n",
       "</table>\n",
       "</div>"
      ],
      "text/plain": [
       "            Rating\n",
       "count  9367.000000\n",
       "mean      4.193338\n",
       "std       0.537431\n",
       "min       1.000000\n",
       "25%       4.000000\n",
       "50%       4.300000\n",
       "75%       4.500000\n",
       "max      19.000000"
      ]
     },
     "execution_count": 556,
     "metadata": {},
     "output_type": "execute_result"
    }
   ],
   "source": [
    "df.describe()"
   ]
  },
  {
   "cell_type": "code",
   "execution_count": 557,
   "metadata": {},
   "outputs": [
    {
     "name": "stdout",
     "output_type": "stream",
     "text": [
      "There are 1181/10841 duplicated records.\n"
     ]
    }
   ],
   "source": [
    "# check duplicates\n",
    "n_duplicated = df.duplicated(subset=['App']).sum()\n",
    "print(\"There are {}/{} duplicated records.\".format(n_duplicated, df.shape[0]))\n",
    "df = df.drop_duplicates()\n",
    "df = df.drop_duplicates(subset='App', keep=\"first\")"
   ]
  },
  {
   "cell_type": "markdown",
   "metadata": {},
   "source": [
    "### ✅ Fix Rating\n",
    "- Ensure that all ratings are within the valid range (0 to 5).\n",
    "- Replace invalid values with appropriate measures (mean, median, or mode)."
   ]
  },
  {
   "cell_type": "code",
   "execution_count": 558,
   "metadata": {},
   "outputs": [],
   "source": [
    "df['Rating'] = df['Rating'].fillna(df['Rating'].median())"
   ]
  },
  {
   "cell_type": "code",
   "execution_count": 559,
   "metadata": {},
   "outputs": [
    {
     "name": "stdout",
     "output_type": "stream",
     "text": [
      "[4.1 3.9 4.7 4.5 4.3 4.4 3.8 4.2 4.6 3.2 4.  4.8 4.9 3.6 3.7 3.3 3.4 3.5\n",
      " 3.1 5.  2.6 3.  1.9 2.5 2.8 2.7 1.  2.9 2.3 2.2 1.7 2.  1.8 2.4 1.6 2.1\n",
      " 1.4 1.5 1.2]\n"
     ]
    }
   ],
   "source": [
    "df['Rating'] = df['Rating'].apply(lambda x: 5 if x > 5 else x)\n",
    "\n",
    "print(df['Rating'].unique())\n"
   ]
  },
  {
   "cell_type": "code",
   "execution_count": 560,
   "metadata": {},
   "outputs": [
    {
     "data": {
      "application/vnd.microsoft.datawrangler.viewer.v0+json": {
       "columns": [
        {
         "name": "index",
         "rawType": "object",
         "type": "string"
        },
        {
         "name": "Rating",
         "rawType": "float64",
         "type": "float"
        }
       ],
       "conversionMethod": "pd.DataFrame",
       "ref": "a77dead5-bc40-4f93-a22c-e50f39ec9099",
       "rows": [
        [
         "count",
         "9660.0"
        ],
        [
         "mean",
         "4.192525879917183"
        ],
        [
         "std",
         "0.49643937376085145"
        ],
        [
         "min",
         "1.0"
        ],
        [
         "25%",
         "4.0"
        ],
        [
         "50%",
         "4.3"
        ],
        [
         "75%",
         "4.5"
        ],
        [
         "max",
         "5.0"
        ]
       ],
       "shape": {
        "columns": 1,
        "rows": 8
       }
      },
      "text/html": [
       "<div>\n",
       "<style scoped>\n",
       "    .dataframe tbody tr th:only-of-type {\n",
       "        vertical-align: middle;\n",
       "    }\n",
       "\n",
       "    .dataframe tbody tr th {\n",
       "        vertical-align: top;\n",
       "    }\n",
       "\n",
       "    .dataframe thead th {\n",
       "        text-align: right;\n",
       "    }\n",
       "</style>\n",
       "<table border=\"1\" class=\"dataframe\">\n",
       "  <thead>\n",
       "    <tr style=\"text-align: right;\">\n",
       "      <th></th>\n",
       "      <th>Rating</th>\n",
       "    </tr>\n",
       "  </thead>\n",
       "  <tbody>\n",
       "    <tr>\n",
       "      <th>count</th>\n",
       "      <td>9660.000000</td>\n",
       "    </tr>\n",
       "    <tr>\n",
       "      <th>mean</th>\n",
       "      <td>4.192526</td>\n",
       "    </tr>\n",
       "    <tr>\n",
       "      <th>std</th>\n",
       "      <td>0.496439</td>\n",
       "    </tr>\n",
       "    <tr>\n",
       "      <th>min</th>\n",
       "      <td>1.000000</td>\n",
       "    </tr>\n",
       "    <tr>\n",
       "      <th>25%</th>\n",
       "      <td>4.000000</td>\n",
       "    </tr>\n",
       "    <tr>\n",
       "      <th>50%</th>\n",
       "      <td>4.300000</td>\n",
       "    </tr>\n",
       "    <tr>\n",
       "      <th>75%</th>\n",
       "      <td>4.500000</td>\n",
       "    </tr>\n",
       "    <tr>\n",
       "      <th>max</th>\n",
       "      <td>5.000000</td>\n",
       "    </tr>\n",
       "  </tbody>\n",
       "</table>\n",
       "</div>"
      ],
      "text/plain": [
       "            Rating\n",
       "count  9660.000000\n",
       "mean      4.192526\n",
       "std       0.496439\n",
       "min       1.000000\n",
       "25%       4.000000\n",
       "50%       4.300000\n",
       "75%       4.500000\n",
       "max       5.000000"
      ]
     },
     "execution_count": 560,
     "metadata": {},
     "output_type": "execute_result"
    }
   ],
   "source": [
    "df.describe()"
   ]
  },
  {
   "cell_type": "markdown",
   "metadata": {},
   "source": [
    "### ✅ Fix Size\n",
    "- Convert size values into numerical format (e.g., \"12M\" → 12,000,000 bytes).\n",
    "- Handle missing or inconsistent size entries."
   ]
  },
  {
   "cell_type": "code",
   "execution_count": 561,
   "metadata": {},
   "outputs": [],
   "source": [
    "def fix_size(value):\n",
    "    if pd.isnull(value) or value == 'Varies with device':\n",
    "        return np.nan\n",
    "    if isinstance(value, str):  \n",
    "        value = value.replace(',', '').replace('+', '') \n",
    "        \n",
    "        if 'M' in value:\n",
    "            return float(value.replace('M', ''))\n",
    "        elif 'k' in value:\n",
    "            return float(value.replace('k', '')) * 0.001\n",
    "        else:\n",
    "            return float(value) \n",
    "    else:\n",
    "        return value  \n"
   ]
  },
  {
   "cell_type": "code",
   "execution_count": 562,
   "metadata": {},
   "outputs": [],
   "source": [
    "df['Size'] = df['Size'].apply(fix_size)\n",
    "df['Size'] = df['Size'].fillna(df['Size'].mean())"
   ]
  },
  {
   "cell_type": "code",
   "execution_count": 563,
   "metadata": {},
   "outputs": [
    {
     "name": "stdout",
     "output_type": "stream",
     "text": [
      "<class 'pandas.core.frame.DataFrame'>\n",
      "Index: 9660 entries, 0 to 10840\n",
      "Data columns (total 13 columns):\n",
      " #   Column          Non-Null Count  Dtype  \n",
      "---  ------          --------------  -----  \n",
      " 0   App             9660 non-null   object \n",
      " 1   Category        9660 non-null   object \n",
      " 2   Rating          9660 non-null   float64\n",
      " 3   Reviews         9660 non-null   object \n",
      " 4   Size            9660 non-null   float64\n",
      " 5   Installs        9660 non-null   object \n",
      " 6   Type            9659 non-null   object \n",
      " 7   Price           9660 non-null   object \n",
      " 8   Content Rating  9659 non-null   object \n",
      " 9   Genres          9660 non-null   object \n",
      " 10  Last Updated    9660 non-null   object \n",
      " 11  Current Ver     9652 non-null   object \n",
      " 12  Android Ver     9657 non-null   object \n",
      "dtypes: float64(2), object(11)\n",
      "memory usage: 1.0+ MB\n"
     ]
    }
   ],
   "source": [
    "df.info()"
   ]
  },
  {
   "cell_type": "code",
   "execution_count": 564,
   "metadata": {},
   "outputs": [
    {
     "data": {
      "application/vnd.microsoft.datawrangler.viewer.v0+json": {
       "columns": [
        {
         "name": "index",
         "rawType": "object",
         "type": "string"
        },
        {
         "name": "Rating",
         "rawType": "float64",
         "type": "float"
        },
        {
         "name": "Size",
         "rawType": "float64",
         "type": "float"
        }
       ],
       "conversionMethod": "pd.DataFrame",
       "ref": "d17dc874-1ed9-4900-b60c-1492c0fb16c5",
       "rows": [
        [
         "count",
         "9660.0",
         "9660.0"
        ],
        [
         "mean",
         "4.192525879917183",
         "20.51145256729515"
        ],
        [
         "std",
         "0.49643937376085145",
         "22.698186295419426"
        ],
        [
         "min",
         "1.0",
         "0.0085"
        ],
        [
         "25%",
         "4.0",
         "5.3"
        ],
        [
         "50%",
         "4.3",
         "16.0"
        ],
        [
         "75%",
         "4.5",
         "25.0"
        ],
        [
         "max",
         "5.0",
         "1000.0"
        ]
       ],
       "shape": {
        "columns": 2,
        "rows": 8
       }
      },
      "text/html": [
       "<div>\n",
       "<style scoped>\n",
       "    .dataframe tbody tr th:only-of-type {\n",
       "        vertical-align: middle;\n",
       "    }\n",
       "\n",
       "    .dataframe tbody tr th {\n",
       "        vertical-align: top;\n",
       "    }\n",
       "\n",
       "    .dataframe thead th {\n",
       "        text-align: right;\n",
       "    }\n",
       "</style>\n",
       "<table border=\"1\" class=\"dataframe\">\n",
       "  <thead>\n",
       "    <tr style=\"text-align: right;\">\n",
       "      <th></th>\n",
       "      <th>Rating</th>\n",
       "      <th>Size</th>\n",
       "    </tr>\n",
       "  </thead>\n",
       "  <tbody>\n",
       "    <tr>\n",
       "      <th>count</th>\n",
       "      <td>9660.000000</td>\n",
       "      <td>9660.000000</td>\n",
       "    </tr>\n",
       "    <tr>\n",
       "      <th>mean</th>\n",
       "      <td>4.192526</td>\n",
       "      <td>20.511453</td>\n",
       "    </tr>\n",
       "    <tr>\n",
       "      <th>std</th>\n",
       "      <td>0.496439</td>\n",
       "      <td>22.698186</td>\n",
       "    </tr>\n",
       "    <tr>\n",
       "      <th>min</th>\n",
       "      <td>1.000000</td>\n",
       "      <td>0.008500</td>\n",
       "    </tr>\n",
       "    <tr>\n",
       "      <th>25%</th>\n",
       "      <td>4.000000</td>\n",
       "      <td>5.300000</td>\n",
       "    </tr>\n",
       "    <tr>\n",
       "      <th>50%</th>\n",
       "      <td>4.300000</td>\n",
       "      <td>16.000000</td>\n",
       "    </tr>\n",
       "    <tr>\n",
       "      <th>75%</th>\n",
       "      <td>4.500000</td>\n",
       "      <td>25.000000</td>\n",
       "    </tr>\n",
       "    <tr>\n",
       "      <th>max</th>\n",
       "      <td>5.000000</td>\n",
       "      <td>1000.000000</td>\n",
       "    </tr>\n",
       "  </tbody>\n",
       "</table>\n",
       "</div>"
      ],
      "text/plain": [
       "            Rating         Size\n",
       "count  9660.000000  9660.000000\n",
       "mean      4.192526    20.511453\n",
       "std       0.496439    22.698186\n",
       "min       1.000000     0.008500\n",
       "25%       4.000000     5.300000\n",
       "50%       4.300000    16.000000\n",
       "75%       4.500000    25.000000\n",
       "max       5.000000  1000.000000"
      ]
     },
     "execution_count": 564,
     "metadata": {},
     "output_type": "execute_result"
    }
   ],
   "source": [
    "df.describe()"
   ]
  },
  {
   "cell_type": "code",
   "execution_count": 565,
   "metadata": {},
   "outputs": [],
   "source": [
    "from sklearn.preprocessing import MinMaxScaler\n",
    "\n",
    "scaler = MinMaxScaler()\n",
    "df['Size'] = scaler.fit_transform(df[['Size']])\n"
   ]
  },
  {
   "cell_type": "code",
   "execution_count": 566,
   "metadata": {},
   "outputs": [
    {
     "data": {
      "application/vnd.microsoft.datawrangler.viewer.v0+json": {
       "columns": [
        {
         "name": "index",
         "rawType": "object",
         "type": "string"
        },
        {
         "name": "Rating",
         "rawType": "float64",
         "type": "float"
        },
        {
         "name": "Size",
         "rawType": "float64",
         "type": "float"
        }
       ],
       "conversionMethod": "pd.DataFrame",
       "ref": "70ad03ea-c8a5-48f5-85cf-31e2c61f4dea",
       "rows": [
        [
         "count",
         "9660.0",
         "9660.0"
        ],
        [
         "mean",
         "4.192525879917183",
         "0.020503126843873325"
        ],
        [
         "std",
         "0.49643937376085145",
         "0.022698379231642894"
        ],
        [
         "min",
         "1.0",
         "0.0"
        ],
        [
         "25%",
         "4.0",
         "0.005291544978132314"
        ],
        [
         "50%",
         "4.3",
         "0.015991635928905398"
        ],
        [
         "75%",
         "4.5",
         "0.024991712429555654"
        ],
        [
         "max",
         "5.0",
         "1.0000000000000002"
        ]
       ],
       "shape": {
        "columns": 2,
        "rows": 8
       }
      },
      "text/html": [
       "<div>\n",
       "<style scoped>\n",
       "    .dataframe tbody tr th:only-of-type {\n",
       "        vertical-align: middle;\n",
       "    }\n",
       "\n",
       "    .dataframe tbody tr th {\n",
       "        vertical-align: top;\n",
       "    }\n",
       "\n",
       "    .dataframe thead th {\n",
       "        text-align: right;\n",
       "    }\n",
       "</style>\n",
       "<table border=\"1\" class=\"dataframe\">\n",
       "  <thead>\n",
       "    <tr style=\"text-align: right;\">\n",
       "      <th></th>\n",
       "      <th>Rating</th>\n",
       "      <th>Size</th>\n",
       "    </tr>\n",
       "  </thead>\n",
       "  <tbody>\n",
       "    <tr>\n",
       "      <th>count</th>\n",
       "      <td>9660.000000</td>\n",
       "      <td>9660.000000</td>\n",
       "    </tr>\n",
       "    <tr>\n",
       "      <th>mean</th>\n",
       "      <td>4.192526</td>\n",
       "      <td>0.020503</td>\n",
       "    </tr>\n",
       "    <tr>\n",
       "      <th>std</th>\n",
       "      <td>0.496439</td>\n",
       "      <td>0.022698</td>\n",
       "    </tr>\n",
       "    <tr>\n",
       "      <th>min</th>\n",
       "      <td>1.000000</td>\n",
       "      <td>0.000000</td>\n",
       "    </tr>\n",
       "    <tr>\n",
       "      <th>25%</th>\n",
       "      <td>4.000000</td>\n",
       "      <td>0.005292</td>\n",
       "    </tr>\n",
       "    <tr>\n",
       "      <th>50%</th>\n",
       "      <td>4.300000</td>\n",
       "      <td>0.015992</td>\n",
       "    </tr>\n",
       "    <tr>\n",
       "      <th>75%</th>\n",
       "      <td>4.500000</td>\n",
       "      <td>0.024992</td>\n",
       "    </tr>\n",
       "    <tr>\n",
       "      <th>max</th>\n",
       "      <td>5.000000</td>\n",
       "      <td>1.000000</td>\n",
       "    </tr>\n",
       "  </tbody>\n",
       "</table>\n",
       "</div>"
      ],
      "text/plain": [
       "            Rating         Size\n",
       "count  9660.000000  9660.000000\n",
       "mean      4.192526     0.020503\n",
       "std       0.496439     0.022698\n",
       "min       1.000000     0.000000\n",
       "25%       4.000000     0.005292\n",
       "50%       4.300000     0.015992\n",
       "75%       4.500000     0.024992\n",
       "max       5.000000     1.000000"
      ]
     },
     "execution_count": 566,
     "metadata": {},
     "output_type": "execute_result"
    }
   ],
   "source": [
    "df.describe()"
   ]
  },
  {
   "cell_type": "markdown",
   "metadata": {},
   "source": [
    "### ✅ Fix Price\n",
    "- Convert price values to a uniform numerical currency format.\n",
    "- Ensure that free apps are represented as zero."
   ]
  },
  {
   "cell_type": "code",
   "execution_count": 567,
   "metadata": {},
   "outputs": [
    {
     "data": {
      "text/plain": [
       "array(['0', '$4.99', '$3.99', '$6.99', '$1.49', '$2.99', '$7.99', '$5.99',\n",
       "       '$3.49', '$1.99', '$9.99', '$7.49', '$0.99', '$9.00', '$5.49',\n",
       "       '$10.00', '$24.99', '$11.99', '$79.99', '$16.99', '$14.99',\n",
       "       '$1.00', '$29.99', '$12.99', '$2.49', '$10.99', '$1.50', '$19.99',\n",
       "       '$15.99', '$33.99', '$74.99', '$39.99', '$3.95', '$4.49', '$1.70',\n",
       "       '$8.99', '$2.00', '$3.88', '$25.99', '$399.99', '$17.99',\n",
       "       '$400.00', '$3.02', '$1.76', '$4.84', '$4.77', '$1.61', '$2.50',\n",
       "       '$1.59', '$6.49', '$1.29', '$5.00', '$13.99', '$299.99', '$379.99',\n",
       "       '$37.99', '$18.99', '$389.99', '$19.90', '$8.49', '$1.75',\n",
       "       '$14.00', '$4.85', '$46.99', '$109.99', '$154.99', '$3.08',\n",
       "       '$2.59', '$4.80', '$1.96', '$19.40', '$3.90', '$4.59', '$15.46',\n",
       "       '$3.04', '$4.29', '$2.60', '$3.28', '$4.60', '$28.99', '$2.95',\n",
       "       '$2.90', '$1.97', '$200.00', '$89.99', '$2.56', '$30.99', '$3.61',\n",
       "       '$394.99', '$1.26', 'Everyone', '$1.20', '$1.04'], dtype=object)"
      ]
     },
     "execution_count": 567,
     "metadata": {},
     "output_type": "execute_result"
    }
   ],
   "source": [
    "df['Price'].unique()"
   ]
  },
  {
   "cell_type": "code",
   "execution_count": 568,
   "metadata": {},
   "outputs": [
    {
     "data": {
      "text/plain": [
       "Price\n",
       "0           8903\n",
       "$0.99        145\n",
       "$2.99        124\n",
       "$1.99         73\n",
       "$4.99         70\n",
       "            ... \n",
       "$394.99        1\n",
       "$1.26          1\n",
       "Everyone       1\n",
       "$1.20          1\n",
       "$1.04          1\n",
       "Name: count, Length: 93, dtype: int64"
      ]
     },
     "execution_count": 568,
     "metadata": {},
     "output_type": "execute_result"
    }
   ],
   "source": [
    "df['Price'].value_counts()"
   ]
  },
  {
   "cell_type": "code",
   "execution_count": 569,
   "metadata": {},
   "outputs": [],
   "source": [
    "def convert_price(value):\n",
    "    if pd.isnull(value):\n",
    "        return np.nan\n",
    "    if value.startswith('$'):\n",
    "        return float(value.replace('$', '').replace(',', ''))\n",
    "    if value=='0':\n",
    "        return value\n"
   ]
  },
  {
   "cell_type": "code",
   "execution_count": 570,
   "metadata": {},
   "outputs": [],
   "source": [
    "df['Price'] = df['Price'].apply(convert_price)\n",
    "df[\"Price\"] = pd.to_numeric(df[\"Price\"], errors='coerce')\n"
   ]
  },
  {
   "cell_type": "code",
   "execution_count": 571,
   "metadata": {},
   "outputs": [
    {
     "data": {
      "text/plain": [
       "array([  0.  ,   4.99,   3.99,   6.99,   1.49,   2.99,   7.99,   5.99,\n",
       "         3.49,   1.99,   9.99,   7.49,   0.99,   9.  ,   5.49,  10.  ,\n",
       "        24.99,  11.99,  79.99,  16.99,  14.99,   1.  ,  29.99,  12.99,\n",
       "         2.49,  10.99,   1.5 ,  19.99,  15.99,  33.99,  74.99,  39.99,\n",
       "         3.95,   4.49,   1.7 ,   8.99,   2.  ,   3.88,  25.99, 399.99,\n",
       "        17.99, 400.  ,   3.02,   1.76,   4.84,   4.77,   1.61,   2.5 ,\n",
       "         1.59,   6.49,   1.29,   5.  ,  13.99, 299.99, 379.99,  37.99,\n",
       "        18.99, 389.99,  19.9 ,   8.49,   1.75,  14.  ,   4.85,  46.99,\n",
       "       109.99, 154.99,   3.08,   2.59,   4.8 ,   1.96,  19.4 ,   3.9 ,\n",
       "         4.59,  15.46,   3.04,   4.29,   2.6 ,   3.28,   4.6 ,  28.99,\n",
       "         2.95,   2.9 ,   1.97, 200.  ,  89.99,   2.56,  30.99,   3.61,\n",
       "       394.99,   1.26,    nan,   1.2 ,   1.04])"
      ]
     },
     "execution_count": 571,
     "metadata": {},
     "output_type": "execute_result"
    }
   ],
   "source": [
    "df[\"Price\"].unique()"
   ]
  },
  {
   "cell_type": "code",
   "execution_count": 572,
   "metadata": {},
   "outputs": [],
   "source": [
    "df['Price'] = df['Price'].fillna(df['Price'].mean())\n"
   ]
  },
  {
   "cell_type": "code",
   "execution_count": 573,
   "metadata": {},
   "outputs": [
    {
     "name": "stdout",
     "output_type": "stream",
     "text": [
      "<class 'pandas.core.frame.DataFrame'>\n",
      "Index: 9660 entries, 0 to 10840\n",
      "Data columns (total 13 columns):\n",
      " #   Column          Non-Null Count  Dtype  \n",
      "---  ------          --------------  -----  \n",
      " 0   App             9660 non-null   object \n",
      " 1   Category        9660 non-null   object \n",
      " 2   Rating          9660 non-null   float64\n",
      " 3   Reviews         9660 non-null   object \n",
      " 4   Size            9660 non-null   float64\n",
      " 5   Installs        9660 non-null   object \n",
      " 6   Type            9659 non-null   object \n",
      " 7   Price           9660 non-null   float64\n",
      " 8   Content Rating  9659 non-null   object \n",
      " 9   Genres          9660 non-null   object \n",
      " 10  Last Updated    9660 non-null   object \n",
      " 11  Current Ver     9652 non-null   object \n",
      " 12  Android Ver     9657 non-null   object \n",
      "dtypes: float64(3), object(10)\n",
      "memory usage: 1.0+ MB\n"
     ]
    }
   ],
   "source": [
    "df.info()"
   ]
  },
  {
   "cell_type": "code",
   "execution_count": 574,
   "metadata": {},
   "outputs": [
    {
     "data": {
      "application/vnd.microsoft.datawrangler.viewer.v0+json": {
       "columns": [
        {
         "name": "index",
         "rawType": "object",
         "type": "string"
        },
        {
         "name": "Rating",
         "rawType": "float64",
         "type": "float"
        },
        {
         "name": "Size",
         "rawType": "float64",
         "type": "float"
        },
        {
         "name": "Price",
         "rawType": "float64",
         "type": "float"
        }
       ],
       "conversionMethod": "pd.DataFrame",
       "ref": "67d57fd1-73db-4742-b547-e527e7acfba1",
       "rows": [
        [
         "count",
         "9660.0",
         "9660.0",
         "9660.0"
        ],
        [
         "mean",
         "4.192525879917183",
         "0.020503126843873325",
         "1.0992990992856404"
        ],
        [
         "std",
         "0.49643937376085145",
         "0.022698379231642894",
         "16.85127952940442"
        ],
        [
         "min",
         "1.0",
         "0.0",
         "0.0"
        ],
        [
         "25%",
         "4.0",
         "0.005291544978132314",
         "0.0"
        ],
        [
         "50%",
         "4.3",
         "0.015991635928905398",
         "0.0"
        ],
        [
         "75%",
         "4.5",
         "0.024991712429555654",
         "0.0"
        ],
        [
         "max",
         "5.0",
         "1.0000000000000002",
         "400.0"
        ]
       ],
       "shape": {
        "columns": 3,
        "rows": 8
       }
      },
      "text/html": [
       "<div>\n",
       "<style scoped>\n",
       "    .dataframe tbody tr th:only-of-type {\n",
       "        vertical-align: middle;\n",
       "    }\n",
       "\n",
       "    .dataframe tbody tr th {\n",
       "        vertical-align: top;\n",
       "    }\n",
       "\n",
       "    .dataframe thead th {\n",
       "        text-align: right;\n",
       "    }\n",
       "</style>\n",
       "<table border=\"1\" class=\"dataframe\">\n",
       "  <thead>\n",
       "    <tr style=\"text-align: right;\">\n",
       "      <th></th>\n",
       "      <th>Rating</th>\n",
       "      <th>Size</th>\n",
       "      <th>Price</th>\n",
       "    </tr>\n",
       "  </thead>\n",
       "  <tbody>\n",
       "    <tr>\n",
       "      <th>count</th>\n",
       "      <td>9660.000000</td>\n",
       "      <td>9660.000000</td>\n",
       "      <td>9660.000000</td>\n",
       "    </tr>\n",
       "    <tr>\n",
       "      <th>mean</th>\n",
       "      <td>4.192526</td>\n",
       "      <td>0.020503</td>\n",
       "      <td>1.099299</td>\n",
       "    </tr>\n",
       "    <tr>\n",
       "      <th>std</th>\n",
       "      <td>0.496439</td>\n",
       "      <td>0.022698</td>\n",
       "      <td>16.851280</td>\n",
       "    </tr>\n",
       "    <tr>\n",
       "      <th>min</th>\n",
       "      <td>1.000000</td>\n",
       "      <td>0.000000</td>\n",
       "      <td>0.000000</td>\n",
       "    </tr>\n",
       "    <tr>\n",
       "      <th>25%</th>\n",
       "      <td>4.000000</td>\n",
       "      <td>0.005292</td>\n",
       "      <td>0.000000</td>\n",
       "    </tr>\n",
       "    <tr>\n",
       "      <th>50%</th>\n",
       "      <td>4.300000</td>\n",
       "      <td>0.015992</td>\n",
       "      <td>0.000000</td>\n",
       "    </tr>\n",
       "    <tr>\n",
       "      <th>75%</th>\n",
       "      <td>4.500000</td>\n",
       "      <td>0.024992</td>\n",
       "      <td>0.000000</td>\n",
       "    </tr>\n",
       "    <tr>\n",
       "      <th>max</th>\n",
       "      <td>5.000000</td>\n",
       "      <td>1.000000</td>\n",
       "      <td>400.000000</td>\n",
       "    </tr>\n",
       "  </tbody>\n",
       "</table>\n",
       "</div>"
      ],
      "text/plain": [
       "            Rating         Size        Price\n",
       "count  9660.000000  9660.000000  9660.000000\n",
       "mean      4.192526     0.020503     1.099299\n",
       "std       0.496439     0.022698    16.851280\n",
       "min       1.000000     0.000000     0.000000\n",
       "25%       4.000000     0.005292     0.000000\n",
       "50%       4.300000     0.015992     0.000000\n",
       "75%       4.500000     0.024992     0.000000\n",
       "max       5.000000     1.000000   400.000000"
      ]
     },
     "execution_count": 574,
     "metadata": {},
     "output_type": "execute_result"
    }
   ],
   "source": [
    "df.describe()"
   ]
  },
  {
   "cell_type": "code",
   "execution_count": 575,
   "metadata": {},
   "outputs": [
    {
     "data": {
      "text/plain": [
       "Price\n",
       "0.000000      8903\n",
       "0.990000       145\n",
       "2.990000       124\n",
       "1.990000        73\n",
       "4.990000        70\n",
       "              ... \n",
       "394.990000       1\n",
       "1.260000         1\n",
       "1.099299         1\n",
       "1.200000         1\n",
       "1.040000         1\n",
       "Name: count, Length: 93, dtype: int64"
      ]
     },
     "execution_count": 575,
     "metadata": {},
     "output_type": "execute_result"
    }
   ],
   "source": [
    "df['Price'].value_counts()"
   ]
  },
  {
   "cell_type": "code",
   "execution_count": 576,
   "metadata": {},
   "outputs": [
    {
     "data": {
      "text/plain": [
       "<Axes: xlabel='Price', ylabel='Count'>"
      ]
     },
     "execution_count": 576,
     "metadata": {},
     "output_type": "execute_result"
    },
    {
     "data": {
      "image/png": "[encoded data removed]",
      "text/plain": [
       "<Figure size 640x480 with 1 Axes>"
      ]
     },
     "metadata": {},
     "output_type": "display_data"
    }
   ],
   "source": [
    "import seaborn as sns\n",
    "sns.histplot(df['Price'])"
   ]
  },
  {
   "cell_type": "code",
   "execution_count": 577,
   "metadata": {},
   "outputs": [
    {
     "name": "stdout",
     "output_type": "stream",
     "text": [
      "✅ All free apps have a price of 0.\n"
     ]
    }
   ],
   "source": [
    "mismatch = df[(df['Type'] == 'Free') & (df['Price'] != 0)]\n",
    "\n",
    "if mismatch.empty:\n",
    "   print(\"✅ All free apps have a price of 0.\")\n",
    "else:\n",
    "   print(\"⚠️ Mismatched cases:\")\n",
    "   print(mismatch[['Type', 'Price']])"
   ]
  },
  {
   "cell_type": "code",
   "execution_count": 578,
   "metadata": {},
   "outputs": [
    {
     "name": "stdout",
     "output_type": "stream",
     "text": [
      "Empty DataFrame\n",
      "Columns: [App, Category, Rating, Reviews, Size, Installs, Type, Price, Content Rating, Genres, Last Updated, Current Ver, Android Ver]\n",
      "Index: []\n",
      " Number of rows : 0\n"
     ]
    }
   ],
   "source": [
    "paid_zero_df = df[(df['Type'] == 'Paid') & (df['Price'] == 0)]\n",
    "print(paid_zero_df)\n",
    "print(f\" Number of rows : {len(paid_zero_df)}\")\n"
   ]
  },
  {
   "cell_type": "code",
   "execution_count": 579,
   "metadata": {},
   "outputs": [
    {
     "data": {
      "application/vnd.microsoft.datawrangler.viewer.v0+json": {
       "columns": [
        {
         "name": "index",
         "rawType": "object",
         "type": "string"
        },
        {
         "name": "Rating",
         "rawType": "float64",
         "type": "float"
        },
        {
         "name": "Size",
         "rawType": "float64",
         "type": "float"
        },
        {
         "name": "Price",
         "rawType": "float64",
         "type": "float"
        }
       ],
       "conversionMethod": "pd.DataFrame",
       "ref": "163ef308-f088-4648-be2e-fe63bcb4baba",
       "rows": [
        [
         "count",
         "9660.0",
         "9660.0",
         "9660.0"
        ],
        [
         "mean",
         "4.192525879917183",
         "0.020503126843873325",
         "1.0992990992856404"
        ],
        [
         "std",
         "0.49643937376085145",
         "0.022698379231642894",
         "16.85127952940442"
        ],
        [
         "min",
         "1.0",
         "0.0",
         "0.0"
        ],
        [
         "25%",
         "4.0",
         "0.005291544978132314",
         "0.0"
        ],
        [
         "50%",
         "4.3",
         "0.015991635928905398",
         "0.0"
        ],
        [
         "75%",
         "4.5",
         "0.024991712429555654",
         "0.0"
        ],
        [
         "max",
         "5.0",
         "1.0000000000000002",
         "400.0"
        ]
       ],
       "shape": {
        "columns": 3,
        "rows": 8
       }
      },
      "text/html": [
       "<div>\n",
       "<style scoped>\n",
       "    .dataframe tbody tr th:only-of-type {\n",
       "        vertical-align: middle;\n",
       "    }\n",
       "\n",
       "    .dataframe tbody tr th {\n",
       "        vertical-align: top;\n",
       "    }\n",
       "\n",
       "    .dataframe thead th {\n",
       "        text-align: right;\n",
       "    }\n",
       "</style>\n",
       "<table border=\"1\" class=\"dataframe\">\n",
       "  <thead>\n",
       "    <tr style=\"text-align: right;\">\n",
       "      <th></th>\n",
       "      <th>Rating</th>\n",
       "      <th>Size</th>\n",
       "      <th>Price</th>\n",
       "    </tr>\n",
       "  </thead>\n",
       "  <tbody>\n",
       "    <tr>\n",
       "      <th>count</th>\n",
       "      <td>9660.000000</td>\n",
       "      <td>9660.000000</td>\n",
       "      <td>9660.000000</td>\n",
       "    </tr>\n",
       "    <tr>\n",
       "      <th>mean</th>\n",
       "      <td>4.192526</td>\n",
       "      <td>0.020503</td>\n",
       "      <td>1.099299</td>\n",
       "    </tr>\n",
       "    <tr>\n",
       "      <th>std</th>\n",
       "      <td>0.496439</td>\n",
       "      <td>0.022698</td>\n",
       "      <td>16.851280</td>\n",
       "    </tr>\n",
       "    <tr>\n",
       "      <th>min</th>\n",
       "      <td>1.000000</td>\n",
       "      <td>0.000000</td>\n",
       "      <td>0.000000</td>\n",
       "    </tr>\n",
       "    <tr>\n",
       "      <th>25%</th>\n",
       "      <td>4.000000</td>\n",
       "      <td>0.005292</td>\n",
       "      <td>0.000000</td>\n",
       "    </tr>\n",
       "    <tr>\n",
       "      <th>50%</th>\n",
       "      <td>4.300000</td>\n",
       "      <td>0.015992</td>\n",
       "      <td>0.000000</td>\n",
       "    </tr>\n",
       "    <tr>\n",
       "      <th>75%</th>\n",
       "      <td>4.500000</td>\n",
       "      <td>0.024992</td>\n",
       "      <td>0.000000</td>\n",
       "    </tr>\n",
       "    <tr>\n",
       "      <th>max</th>\n",
       "      <td>5.000000</td>\n",
       "      <td>1.000000</td>\n",
       "      <td>400.000000</td>\n",
       "    </tr>\n",
       "  </tbody>\n",
       "</table>\n",
       "</div>"
      ],
      "text/plain": [
       "            Rating         Size        Price\n",
       "count  9660.000000  9660.000000  9660.000000\n",
       "mean      4.192526     0.020503     1.099299\n",
       "std       0.496439     0.022698    16.851280\n",
       "min       1.000000     0.000000     0.000000\n",
       "25%       4.000000     0.005292     0.000000\n",
       "50%       4.300000     0.015992     0.000000\n",
       "75%       4.500000     0.024992     0.000000\n",
       "max       5.000000     1.000000   400.000000"
      ]
     },
     "execution_count": 579,
     "metadata": {},
     "output_type": "execute_result"
    }
   ],
   "source": [
    "df.describe()"
   ]
  },
  {
   "cell_type": "markdown",
   "metadata": {},
   "source": [
    "### ✅ Fix Category\n",
    "- Standardize category names (remove typos and inconsistencies).\n",
    "- Handle missing categories by assigning the most common category if appropriate."
   ]
  },
  {
   "cell_type": "code",
   "execution_count": 580,
   "metadata": {},
   "outputs": [
    {
     "data": {
      "text/plain": [
       "Category\n",
       "FAMILY                 1832\n",
       "GAME                    959\n",
       "TOOLS                   827\n",
       "BUSINESS                420\n",
       "MEDICAL                 395\n",
       "PERSONALIZATION         376\n",
       "PRODUCTIVITY            374\n",
       "LIFESTYLE               369\n",
       "FINANCE                 345\n",
       "SPORTS                  325\n",
       "COMMUNICATION           315\n",
       "HEALTH_AND_FITNESS      288\n",
       "PHOTOGRAPHY             281\n",
       "NEWS_AND_MAGAZINES      254\n",
       "SOCIAL                  239\n",
       "BOOKS_AND_REFERENCE     222\n",
       "TRAVEL_AND_LOCAL        219\n",
       "SHOPPING                202\n",
       "DATING                  171\n",
       "VIDEO_PLAYERS           163\n",
       "MAPS_AND_NAVIGATION     131\n",
       "EDUCATION               119\n",
       "FOOD_AND_DRINK          112\n",
       "ENTERTAINMENT           102\n",
       "AUTO_AND_VEHICLES        85\n",
       "LIBRARIES_AND_DEMO       84\n",
       "WEATHER                  79\n",
       "HOUSE_AND_HOME           74\n",
       "ART_AND_DESIGN           64\n",
       "EVENTS                   64\n",
       "PARENTING                60\n",
       "COMICS                   56\n",
       "BEAUTY                   53\n",
       "1.9                       1\n",
       "Name: count, dtype: int64"
      ]
     },
     "execution_count": 580,
     "metadata": {},
     "output_type": "execute_result"
    }
   ],
   "source": [
    "df['Category'].value_counts()"
   ]
  },
  {
   "cell_type": "code",
   "execution_count": 581,
   "metadata": {},
   "outputs": [
    {
     "name": "stdout",
     "output_type": "stream",
     "text": [
      "<class 'pandas.core.frame.DataFrame'>\n",
      "Index: 9659 entries, 0 to 10840\n",
      "Data columns (total 13 columns):\n",
      " #   Column          Non-Null Count  Dtype  \n",
      "---  ------          --------------  -----  \n",
      " 0   App             9659 non-null   object \n",
      " 1   Category        9659 non-null   object \n",
      " 2   Rating          9659 non-null   float64\n",
      " 3   Reviews         9659 non-null   object \n",
      " 4   Size            9659 non-null   float64\n",
      " 5   Installs        9659 non-null   object \n",
      " 6   Type            9658 non-null   object \n",
      " 7   Price           9659 non-null   float64\n",
      " 8   Content Rating  9659 non-null   object \n",
      " 9   Genres          9659 non-null   object \n",
      " 10  Last Updated    9659 non-null   object \n",
      " 11  Current Ver     9651 non-null   object \n",
      " 12  Android Ver     9657 non-null   object \n",
      "dtypes: float64(3), object(10)\n",
      "memory usage: 1.0+ MB\n"
     ]
    }
   ],
   "source": [
    "df = df[~df['Category'].str.match(r'^\\d+(\\.\\d+)?$', na=False)]\n",
    "df.info()\n"
   ]
  },
  {
   "cell_type": "code",
   "execution_count": 582,
   "metadata": {},
   "outputs": [
    {
     "name": "stdout",
     "output_type": "stream",
     "text": [
      "['Art And Design' 'Auto And Vehicles' 'Beauty' 'Books And Reference'\n",
      " 'Business' 'Comics' 'Communication' 'Dating' 'Education' 'Entertainment'\n",
      " 'Events' 'Finance' 'Food And Drink' 'Health And Fitness' 'House And Home'\n",
      " 'Libraries And Demo' 'Lifestyle' 'Game' 'Family' 'Medical' 'Social'\n",
      " 'Shopping' 'Photography' 'Sports' 'Travel And Local' 'Tools'\n",
      " 'Personalization' 'Productivity' 'Parenting' 'Weather' 'Video Players'\n",
      " 'News And Magazines' 'Maps And Navigation']\n"
     ]
    }
   ],
   "source": [
    "df['Category'] = df['Category'].str.replace('_', ' ').str.title()\n",
    "\n",
    "df['Category'] = df['Category'].str.strip()\n",
    "\n",
    "unique_categories = df['Category'].unique()\n",
    "print(unique_categories)"
   ]
  },
  {
   "cell_type": "markdown",
   "metadata": {},
   "source": [
    "### ✅ Fix Android Version\n",
    "- Ensure Android version numbers follow a valid format (e.g., \"4.1 and up\").\n",
    "- Handle missing values by assigning the minimum version that can support the app."
   ]
  },
  {
   "cell_type": "code",
   "execution_count": 583,
   "metadata": {},
   "outputs": [
    {
     "data": {
      "text/plain": [
       "array(['4.0.3 and up', '4.2 and up', '4.4 and up', '2.3 and up',\n",
       "       '3.0 and up', '4.1 and up', '4.0 and up', '2.3.3 and up',\n",
       "       'Varies with device', '2.2 and up', '5.0 and up', '6.0 and up',\n",
       "       '1.6 and up', '1.5 and up', '2.1 and up', '7.0 and up',\n",
       "       '5.1 and up', '4.3 and up', '4.0.3 - 7.1.1', '2.0 and up',\n",
       "       '3.2 and up', '4.4W and up', '7.1 and up', '7.0 - 7.1.1',\n",
       "       '8.0 and up', '5.0 - 8.0', '3.1 and up', '2.0.1 and up',\n",
       "       '4.1 - 7.1.1', nan, '5.0 - 6.0', '1.0 and up', '2.2 - 7.1.1',\n",
       "       '5.0 - 7.1.1'], dtype=object)"
      ]
     },
     "execution_count": 583,
     "metadata": {},
     "output_type": "execute_result"
    }
   ],
   "source": [
    "df['Android Ver'].unique()"
   ]
  },
  {
   "cell_type": "code",
   "execution_count": 584,
   "metadata": {},
   "outputs": [],
   "source": [
    "df['Android Ver'] = df['Android Ver'].astype(str).str.extract(r'(\\d+\\.\\d{1})')[0]\n",
    "df['Android Ver'] = pd.to_numeric(df['Android Ver'], errors='coerce')"
   ]
  },
  {
   "cell_type": "code",
   "execution_count": 585,
   "metadata": {},
   "outputs": [
    {
     "data": {
      "application/vnd.microsoft.datawrangler.viewer.v0+json": {
       "columns": [
        {
         "name": "index",
         "rawType": "int64",
         "type": "integer"
        },
        {
         "name": "App",
         "rawType": "object",
         "type": "string"
        },
        {
         "name": "Category",
         "rawType": "object",
         "type": "string"
        },
        {
         "name": "Rating",
         "rawType": "float64",
         "type": "float"
        },
        {
         "name": "Reviews",
         "rawType": "object",
         "type": "string"
        },
        {
         "name": "Size",
         "rawType": "float64",
         "type": "float"
        },
        {
         "name": "Installs",
         "rawType": "object",
         "type": "string"
        },
        {
         "name": "Type",
         "rawType": "object",
         "type": "unknown"
        },
        {
         "name": "Price",
         "rawType": "float64",
         "type": "float"
        },
        {
         "name": "Content Rating",
         "rawType": "object",
         "type": "string"
        },
        {
         "name": "Genres",
         "rawType": "object",
         "type": "string"
        },
        {
         "name": "Last Updated",
         "rawType": "object",
         "type": "string"
        },
        {
         "name": "Current Ver",
         "rawType": "object",
         "type": "unknown"
        },
        {
         "name": "Android Ver",
         "rawType": "float64",
         "type": "float"
        }
       ],
       "conversionMethod": "pd.DataFrame",
       "ref": "674b6a90-703c-4334-b08b-62efd43ef091",
       "rows": [
        [
         "15",
         "Learn To Draw Kawaii Characters",
         "Art And Design",
         "3.2",
         "55",
         "0.002691522877944463",
         "5,000+",
         "Free",
         "0.0",
         "Everyone",
         "Art & Design",
         "June 6, 2018",
         null,
         "4.2"
        ],
        [
         "42",
         "Textgram - write on photos",
         "Art And Design",
         "4.4",
         "295221",
         "0.020503126843873325",
         "10,000,000+",
         "Free",
         "0.0",
         "Everyone",
         "Art & Design",
         "July 30, 2018",
         "Varies with device",
         null
        ],
        [
         "52",
         "Used Cars and Trucks for Sale",
         "Auto And Vehicles",
         "4.6",
         "17057",
         "0.020503126843873325",
         "1,000,000+",
         "Free",
         "0.0",
         "Everyone",
         "Auto & Vehicles",
         "July 30, 2018",
         "Varies with device",
         null
        ],
        [
         "67",
         "Ulysse Speedometer",
         "Auto And Vehicles",
         "4.3",
         "40211",
         "0.020503126843873325",
         "5,000,000+",
         "Free",
         "0.0",
         "Everyone",
         "Auto & Vehicles",
         "July 30, 2018",
         "Varies with device",
         null
        ],
        [
         "68",
         "REPUVE",
         "Auto And Vehicles",
         "3.9",
         "356",
         "0.020503126843873325",
         "100,000+",
         "Free",
         "0.0",
         "Everyone",
         "Auto & Vehicles",
         "May 25, 2018",
         "Varies with device",
         null
        ],
        [
         "85",
         "CarMax – Cars for Sale: Search Used Car Inventory",
         "Auto And Vehicles",
         "4.4",
         "21777",
         "0.020503126843873325",
         "1,000,000+",
         "Free",
         "0.0",
         "Everyone",
         "Auto & Vehicles",
         "August 4, 2018",
         "Varies with device",
         null
        ],
        [
         "88",
         "AutoScout24 Switzerland – Find your new car",
         "Auto And Vehicles",
         "4.6",
         "13372",
         "0.020503126843873325",
         "1,000,000+",
         "Free",
         "0.0",
         "Everyone",
         "Auto & Vehicles",
         "August 3, 2018",
         "Varies with device",
         null
        ],
        [
         "89",
         "Zona Azul Digital Fácil SP CET - OFFICIAL São Paulo",
         "Auto And Vehicles",
         "4.6",
         "7880",
         "0.020503126843873325",
         "100,000+",
         "Free",
         "0.0",
         "Everyone",
         "Auto & Vehicles",
         "May 10, 2018",
         "4.6.5",
         null
        ],
        [
         "102",
         "Mirror - Zoom & Exposure -",
         "Beauty",
         "3.9",
         "32090",
         "0.020503126843873325",
         "1,000,000+",
         "Free",
         "0.0",
         "Everyone",
         "Beauty",
         "October 24, 2016",
         "Varies with device",
         null
        ],
        [
         "109",
         "Selfie Camera",
         "Beauty",
         "4.2",
         "17934",
         "0.020503126843873325",
         "1,000,000+",
         "Free",
         "0.0",
         "Everyone",
         "Beauty",
         "September 12, 2017",
         "Varies with device",
         null
        ],
        [
         "117",
         "Beauty Camera - Selfie Camera",
         "Beauty",
         "4.0",
         "113715",
         "0.020503126843873325",
         "10,000,000+",
         "Free",
         "0.0",
         "Everyone",
         "Beauty",
         "August 3, 2017",
         "Varies with device",
         null
        ],
        [
         "139",
         "Wattpad 📖 Free Books",
         "Books And Reference",
         "4.6",
         "2914724",
         "0.020503126843873325",
         "100,000,000+",
         "Free",
         "0.0",
         "Teen",
         "Books & Reference",
         "August 1, 2018",
         "Varies with device",
         null
        ],
        [
         "142",
         "Wikipedia",
         "Books And Reference",
         "4.4",
         "577550",
         "0.020503126843873325",
         "10,000,000+",
         "Free",
         "0.0",
         "Everyone",
         "Books & Reference",
         "August 2, 2018",
         "Varies with device",
         null
        ],
        [
         "143",
         "Amazon Kindle",
         "Books And Reference",
         "4.2",
         "814080",
         "0.020503126843873325",
         "100,000,000+",
         "Free",
         "0.0",
         "Teen",
         "Books & Reference",
         "July 27, 2018",
         "Varies with device",
         null
        ],
        [
         "145",
         "Dictionary - Merriam-Webster",
         "Books And Reference",
         "4.5",
         "454060",
         "0.020503126843873325",
         "10,000,000+",
         "Free",
         "0.0",
         "Everyone",
         "Books & Reference",
         "May 18, 2018",
         "Varies with device",
         null
        ],
        [
         "146",
         "NOOK: Read eBooks & Magazines",
         "Books And Reference",
         "4.5",
         "155446",
         "0.020503126843873325",
         "10,000,000+",
         "Free",
         "0.0",
         "Teen",
         "Books & Reference",
         "April 25, 2018",
         "Varies with device",
         null
        ],
        [
         "149",
         "FBReader: Favorite Book Reader",
         "Books And Reference",
         "4.5",
         "203130",
         "0.020503126843873325",
         "10,000,000+",
         "Free",
         "0.0",
         "Everyone",
         "Books & Reference",
         "June 28, 2018",
         "Varies with device",
         null
        ],
        [
         "152",
         "Google Play Books",
         "Books And Reference",
         "3.9",
         "1433233",
         "0.020503126843873325",
         "1,000,000,000+",
         "Free",
         "0.0",
         "Teen",
         "Books & Reference",
         "August 3, 2018",
         "Varies with device",
         null
        ],
        [
         "157",
         "Spanish English Translator",
         "Books And Reference",
         "4.2",
         "87873",
         "0.020503126843873325",
         "10,000,000+",
         "Free",
         "0.0",
         "Teen",
         "Books & Reference",
         "May 28, 2018",
         "Varies with device",
         null
        ],
        [
         "162",
         "NOOK App for NOOK Devices",
         "Books And Reference",
         "4.7",
         "19080",
         "0.020503126843873325",
         "500,000+",
         "Free",
         "0.0",
         "Everyone",
         "Books & Reference",
         "April 25, 2018",
         "Varies with device",
         null
        ],
        [
         "172",
         "Ancestry",
         "Books And Reference",
         "4.3",
         "64513",
         "0.020503126843873325",
         "5,000,000+",
         "Free",
         "0.0",
         "Everyone",
         "Books & Reference",
         "July 31, 2018",
         "Varies with device",
         null
        ],
        [
         "179",
         "Moon+ Reader",
         "Books And Reference",
         "4.4",
         "233757",
         "0.020503126843873325",
         "10,000,000+",
         "Free",
         "0.0",
         "Everyone",
         "Books & Reference",
         "May 1, 2018",
         "Varies with device",
         null
        ],
        [
         "187",
         "Visual Voicemail by MetroPCS",
         "Business",
         "4.1",
         "16129",
         "0.020503126843873325",
         "10,000,000+",
         "Free",
         "0.0",
         "Everyone",
         "Business",
         "July 30, 2018",
         "Varies with device",
         null
        ],
        [
         "188",
         "Indeed Job Search",
         "Business",
         "4.3",
         "674730",
         "0.020503126843873325",
         "50,000,000+",
         "Free",
         "0.0",
         "Everyone",
         "Business",
         "May 21, 2018",
         "Varies with device",
         null
        ],
        [
         "189",
         "Uber Driver",
         "Business",
         "4.4",
         "1254730",
         "0.020503126843873325",
         "10,000,000+",
         "Free",
         "0.0",
         "Everyone",
         "Business",
         "August 3, 2018",
         "Varies with device",
         null
        ],
        [
         "191",
         "Snag - Jobs Hiring Now",
         "Business",
         "4.3",
         "32584",
         "0.020503126843873325",
         "1,000,000+",
         "Free",
         "0.0",
         "Everyone",
         "Business",
         "May 4, 2018",
         "Varies with device",
         null
        ],
        [
         "192",
         "Docs To Go™ Free Office Suite",
         "Business",
         "4.1",
         "217730",
         "0.020503126843873325",
         "50,000,000+",
         "Free",
         "0.0",
         "Everyone",
         "Business",
         "April 2, 2018",
         "Varies with device",
         null
        ],
        [
         "201",
         "Facebook Pages Manager",
         "Business",
         "4.0",
         "1279184",
         "0.020503126843873325",
         "50,000,000+",
         "Free",
         "0.0",
         "Everyone",
         "Business",
         "August 2, 2018",
         "Varies with device",
         null
        ],
        [
         "202",
         "OfficeSuite Pro + PDF (Trial)",
         "Business",
         "4.2",
         "88073",
         "0.020503126843873325",
         "10,000,000+",
         "Free",
         "0.0",
         "Everyone",
         "Business",
         "July 9, 2018",
         "Varies with device",
         null
        ],
        [
         "204",
         "Box",
         "Business",
         "4.2",
         "159872",
         "0.020503126843873325",
         "10,000,000+",
         "Free",
         "0.0",
         "Everyone",
         "Business",
         "July 31, 2018",
         "Varies with device",
         null
        ],
        [
         "207",
         "Jobs in Alabama - Jobs in Alba",
         "Business",
         "4.1",
         "11622",
         "0.020503126843873325",
         "5,000,000+",
         "Free",
         "0.0",
         "Everyone",
         "Business",
         "July 26, 2018",
         "Varies with device",
         null
        ],
        [
         "208",
         "Square Point of Sale - POS",
         "Business",
         "4.6",
         "95912",
         "0.020503126843873325",
         "5,000,000+",
         "Free",
         "0.0",
         "Everyone",
         "Business",
         "July 30, 2018",
         "Varies with device",
         null
        ],
        [
         "211",
         "SEEK Job Search",
         "Business",
         "4.3",
         "14955",
         "0.020503126843873325",
         "1,000,000+",
         "Free",
         "0.0",
         "Everyone",
         "Business",
         "July 30, 2018",
         "Varies with device",
         null
        ],
        [
         "214",
         "Easy Installer - Apps On SD",
         "Business",
         "4.1",
         "23055",
         "0.020503126843873325",
         "5,000,000+",
         "Free",
         "0.0",
         "Everyone",
         "Business",
         "June 8, 2018",
         "Varies with device",
         null
        ],
        [
         "226",
         "UPS Mobile",
         "Business",
         "3.9",
         "23243",
         "0.020503126843873325",
         "5,000,000+",
         "Free",
         "0.0",
         "Everyone",
         "Business",
         "June 25, 2018",
         "Varies with device",
         null
        ],
        [
         "228",
         "SignEasy | Sign and Fill PDF and other Documents",
         "Business",
         "4.3",
         "8978",
         "0.020503126843873325",
         "1,000,000+",
         "Free",
         "0.0",
         "Everyone",
         "Business",
         "July 25, 2018",
         "Varies with device",
         null
        ],
        [
         "230",
         "Genius Scan - PDF Scanner",
         "Business",
         "4.4",
         "42492",
         "0.020503126843873325",
         "1,000,000+",
         "Free",
         "0.0",
         "Everyone",
         "Business",
         "July 11, 2018",
         "Varies with device",
         null
        ],
        [
         "240",
         "Slack",
         "Business",
         "4.4",
         "51507",
         "0.020503126843873325",
         "5,000,000+",
         "Free",
         "0.0",
         "Everyone",
         "Business",
         "August 2, 2018",
         "Varies with device",
         null
        ],
        [
         "245",
         "Xero Accounting Software",
         "Business",
         "3.5",
         "2111",
         "0.020503126843873325",
         "100,000+",
         "Free",
         "0.0",
         "Everyone",
         "Business",
         "July 30, 2018",
         "Varies with device",
         null
        ],
        [
         "259",
         "Microsoft Remote Desktop",
         "Business",
         "4.2",
         "97702",
         "0.020503126843873325",
         "5,000,000+",
         "Free",
         "0.0",
         "Everyone",
         "Business",
         "July 11, 2018",
         "Varies with device",
         null
        ],
        [
         "264",
         "Skype for Business for Android",
         "Business",
         "3.9",
         "78172",
         "0.020503126843873325",
         "10,000,000+",
         "Free",
         "0.0",
         "Everyone",
         "Business",
         "August 2, 2018",
         "Varies with device",
         null
        ],
        [
         "297",
         "LINE WEBTOON - Free Comics",
         "Comics",
         "4.5",
         "1013635",
         "0.020503126843873325",
         "10,000,000+",
         "Free",
         "0.0",
         "Teen",
         "Comics",
         "July 31, 2018",
         "Varies with device",
         null
        ],
        [
         "315",
         "DC Comics",
         "Comics",
         "4.2",
         "25671",
         "0.020503126843873325",
         "1,000,000+",
         "Free",
         "0.0",
         "Teen",
         "Comics",
         "June 5, 2018",
         "Varies with device",
         null
        ],
        [
         "320",
         "Narrator's Voice",
         "Comics",
         "4.5",
         "564387",
         "0.020503126843873325",
         "5,000,000+",
         "Free",
         "0.0",
         "Everyone",
         "Comics",
         "July 5, 2018",
         "Varies with device",
         null
        ],
        [
         "327",
         "pixiv comic - everyone's manga app",
         "Comics",
         "4.4",
         "18814",
         "0.020503126843873325",
         "1,000,000+",
         "Free",
         "0.0",
         "Mature 17+",
         "Comics",
         "July 30, 2018",
         "Varies with device",
         null
        ],
        [
         "335",
         "Messenger – Text and Video Chat for Free",
         "Communication",
         "4.0",
         "56642847",
         "0.020503126843873325",
         "1,000,000,000+",
         "Free",
         "0.0",
         "Everyone",
         "Communication",
         "August 1, 2018",
         "Varies with device",
         null
        ],
        [
         "336",
         "WhatsApp Messenger",
         "Communication",
         "4.4",
         "69119316",
         "0.020503126843873325",
         "1,000,000,000+",
         "Free",
         "0.0",
         "Everyone",
         "Communication",
         "August 3, 2018",
         "Varies with device",
         null
        ],
        [
         "338",
         "Google Chrome: Fast & Secure",
         "Communication",
         "4.3",
         "9642995",
         "0.020503126843873325",
         "1,000,000,000+",
         "Free",
         "0.0",
         "Everyone",
         "Communication",
         "August 1, 2018",
         "Varies with device",
         null
        ],
        [
         "340",
         "Gmail",
         "Communication",
         "4.3",
         "4604324",
         "0.020503126843873325",
         "1,000,000,000+",
         "Free",
         "0.0",
         "Everyone",
         "Communication",
         "August 2, 2018",
         "Varies with device",
         null
        ],
        [
         "341",
         "Hangouts",
         "Communication",
         "4.0",
         "3419249",
         "0.020503126843873325",
         "1,000,000,000+",
         "Free",
         "0.0",
         "Everyone",
         "Communication",
         "July 21, 2018",
         "Varies with device",
         null
        ]
       ],
       "shape": {
        "columns": 13,
        "rows": 1000
       }
      },
      "text/html": [
       "<div>\n",
       "<style scoped>\n",
       "    .dataframe tbody tr th:only-of-type {\n",
       "        vertical-align: middle;\n",
       "    }\n",
       "\n",
       "    .dataframe tbody tr th {\n",
       "        vertical-align: top;\n",
       "    }\n",
       "\n",
       "    .dataframe thead th {\n",
       "        text-align: right;\n",
       "    }\n",
       "</style>\n",
       "<table border=\"1\" class=\"dataframe\">\n",
       "  <thead>\n",
       "    <tr style=\"text-align: right;\">\n",
       "      <th></th>\n",
       "      <th>App</th>\n",
       "      <th>Category</th>\n",
       "      <th>Rating</th>\n",
       "      <th>Reviews</th>\n",
       "      <th>Size</th>\n",
       "      <th>Installs</th>\n",
       "      <th>Type</th>\n",
       "      <th>Price</th>\n",
       "      <th>Content Rating</th>\n",
       "      <th>Genres</th>\n",
       "      <th>Last Updated</th>\n",
       "      <th>Current Ver</th>\n",
       "      <th>Android Ver</th>\n",
       "    </tr>\n",
       "  </thead>\n",
       "  <tbody>\n",
       "    <tr>\n",
       "      <th>15</th>\n",
       "      <td>Learn To Draw Kawaii Characters</td>\n",
       "      <td>Art And Design</td>\n",
       "      <td>3.2</td>\n",
       "      <td>55</td>\n",
       "      <td>0.002692</td>\n",
       "      <td>5,000+</td>\n",
       "      <td>Free</td>\n",
       "      <td>0.0</td>\n",
       "      <td>Everyone</td>\n",
       "      <td>Art &amp; Design</td>\n",
       "      <td>June 6, 2018</td>\n",
       "      <td>NaN</td>\n",
       "      <td>4.2</td>\n",
       "    </tr>\n",
       "    <tr>\n",
       "      <th>42</th>\n",
       "      <td>Textgram - write on photos</td>\n",
       "      <td>Art And Design</td>\n",
       "      <td>4.4</td>\n",
       "      <td>295221</td>\n",
       "      <td>0.020503</td>\n",
       "      <td>10,000,000+</td>\n",
       "      <td>Free</td>\n",
       "      <td>0.0</td>\n",
       "      <td>Everyone</td>\n",
       "      <td>Art &amp; Design</td>\n",
       "      <td>July 30, 2018</td>\n",
       "      <td>Varies with device</td>\n",
       "      <td>NaN</td>\n",
       "    </tr>\n",
       "    <tr>\n",
       "      <th>52</th>\n",
       "      <td>Used Cars and Trucks for Sale</td>\n",
       "      <td>Auto And Vehicles</td>\n",
       "      <td>4.6</td>\n",
       "      <td>17057</td>\n",
       "      <td>0.020503</td>\n",
       "      <td>1,000,000+</td>\n",
       "      <td>Free</td>\n",
       "      <td>0.0</td>\n",
       "      <td>Everyone</td>\n",
       "      <td>Auto &amp; Vehicles</td>\n",
       "      <td>July 30, 2018</td>\n",
       "      <td>Varies with device</td>\n",
       "      <td>NaN</td>\n",
       "    </tr>\n",
       "    <tr>\n",
       "      <th>67</th>\n",
       "      <td>Ulysse Speedometer</td>\n",
       "      <td>Auto And Vehicles</td>\n",
       "      <td>4.3</td>\n",
       "      <td>40211</td>\n",
       "      <td>0.020503</td>\n",
       "      <td>5,000,000+</td>\n",
       "      <td>Free</td>\n",
       "      <td>0.0</td>\n",
       "      <td>Everyone</td>\n",
       "      <td>Auto &amp; Vehicles</td>\n",
       "      <td>July 30, 2018</td>\n",
       "      <td>Varies with device</td>\n",
       "      <td>NaN</td>\n",
       "    </tr>\n",
       "    <tr>\n",
       "      <th>68</th>\n",
       "      <td>REPUVE</td>\n",
       "      <td>Auto And Vehicles</td>\n",
       "      <td>3.9</td>\n",
       "      <td>356</td>\n",
       "      <td>0.020503</td>\n",
       "      <td>100,000+</td>\n",
       "      <td>Free</td>\n",
       "      <td>0.0</td>\n",
       "      <td>Everyone</td>\n",
       "      <td>Auto &amp; Vehicles</td>\n",
       "      <td>May 25, 2018</td>\n",
       "      <td>Varies with device</td>\n",
       "      <td>NaN</td>\n",
       "    </tr>\n",
       "    <tr>\n",
       "      <th>...</th>\n",
       "      <td>...</td>\n",
       "      <td>...</td>\n",
       "      <td>...</td>\n",
       "      <td>...</td>\n",
       "      <td>...</td>\n",
       "      <td>...</td>\n",
       "      <td>...</td>\n",
       "      <td>...</td>\n",
       "      <td>...</td>\n",
       "      <td>...</td>\n",
       "      <td>...</td>\n",
       "      <td>...</td>\n",
       "      <td>...</td>\n",
       "    </tr>\n",
       "    <tr>\n",
       "      <th>10713</th>\n",
       "      <td>My Earthquake Alerts - US &amp; Worldwide Earthquakes</td>\n",
       "      <td>Weather</td>\n",
       "      <td>4.4</td>\n",
       "      <td>3471</td>\n",
       "      <td>0.020503</td>\n",
       "      <td>100,000+</td>\n",
       "      <td>Free</td>\n",
       "      <td>0.0</td>\n",
       "      <td>Everyone</td>\n",
       "      <td>Weather</td>\n",
       "      <td>July 24, 2018</td>\n",
       "      <td>Varies with device</td>\n",
       "      <td>NaN</td>\n",
       "    </tr>\n",
       "    <tr>\n",
       "      <th>10765</th>\n",
       "      <td>Chat For Strangers - Video Chat</td>\n",
       "      <td>Social</td>\n",
       "      <td>3.4</td>\n",
       "      <td>622</td>\n",
       "      <td>0.020503</td>\n",
       "      <td>100,000+</td>\n",
       "      <td>Free</td>\n",
       "      <td>0.0</td>\n",
       "      <td>Mature 17+</td>\n",
       "      <td>Social</td>\n",
       "      <td>May 23, 2018</td>\n",
       "      <td>Varies with device</td>\n",
       "      <td>NaN</td>\n",
       "    </tr>\n",
       "    <tr>\n",
       "      <th>10826</th>\n",
       "      <td>Frim: get new friends on local chat rooms</td>\n",
       "      <td>Social</td>\n",
       "      <td>4.0</td>\n",
       "      <td>88486</td>\n",
       "      <td>0.020503</td>\n",
       "      <td>5,000,000+</td>\n",
       "      <td>Free</td>\n",
       "      <td>0.0</td>\n",
       "      <td>Mature 17+</td>\n",
       "      <td>Social</td>\n",
       "      <td>March 23, 2018</td>\n",
       "      <td>Varies with device</td>\n",
       "      <td>NaN</td>\n",
       "    </tr>\n",
       "    <tr>\n",
       "      <th>10839</th>\n",
       "      <td>The SCP Foundation DB fr nn5n</td>\n",
       "      <td>Books And Reference</td>\n",
       "      <td>4.5</td>\n",
       "      <td>114</td>\n",
       "      <td>0.020503</td>\n",
       "      <td>1,000+</td>\n",
       "      <td>Free</td>\n",
       "      <td>0.0</td>\n",
       "      <td>Mature 17+</td>\n",
       "      <td>Books &amp; Reference</td>\n",
       "      <td>January 19, 2015</td>\n",
       "      <td>Varies with device</td>\n",
       "      <td>NaN</td>\n",
       "    </tr>\n",
       "    <tr>\n",
       "      <th>10840</th>\n",
       "      <td>iHoroscope - 2018 Daily Horoscope &amp; Astrology</td>\n",
       "      <td>Lifestyle</td>\n",
       "      <td>4.5</td>\n",
       "      <td>398307</td>\n",
       "      <td>0.018992</td>\n",
       "      <td>10,000,000+</td>\n",
       "      <td>Free</td>\n",
       "      <td>0.0</td>\n",
       "      <td>Everyone</td>\n",
       "      <td>Lifestyle</td>\n",
       "      <td>July 25, 2018</td>\n",
       "      <td>Varies with device</td>\n",
       "      <td>NaN</td>\n",
       "    </tr>\n",
       "  </tbody>\n",
       "</table>\n",
       "<p>1000 rows × 13 columns</p>\n",
       "</div>"
      ],
      "text/plain": [
       "                                                     App             Category  \\\n",
       "15                       Learn To Draw Kawaii Characters       Art And Design   \n",
       "42                            Textgram - write on photos       Art And Design   \n",
       "52                         Used Cars and Trucks for Sale    Auto And Vehicles   \n",
       "67                                    Ulysse Speedometer    Auto And Vehicles   \n",
       "68                                                REPUVE    Auto And Vehicles   \n",
       "...                                                  ...                  ...   \n",
       "10713  My Earthquake Alerts - US & Worldwide Earthquakes              Weather   \n",
       "10765                    Chat For Strangers - Video Chat               Social   \n",
       "10826          Frim: get new friends on local chat rooms               Social   \n",
       "10839                      The SCP Foundation DB fr nn5n  Books And Reference   \n",
       "10840      iHoroscope - 2018 Daily Horoscope & Astrology            Lifestyle   \n",
       "\n",
       "       Rating Reviews      Size     Installs  Type  Price Content Rating  \\\n",
       "15        3.2      55  0.002692       5,000+  Free    0.0       Everyone   \n",
       "42        4.4  295221  0.020503  10,000,000+  Free    0.0       Everyone   \n",
       "52        4.6   17057  0.020503   1,000,000+  Free    0.0       Everyone   \n",
       "67        4.3   40211  0.020503   5,000,000+  Free    0.0       Everyone   \n",
       "68        3.9     356  0.020503     100,000+  Free    0.0       Everyone   \n",
       "...       ...     ...       ...          ...   ...    ...            ...   \n",
       "10713     4.4    3471  0.020503     100,000+  Free    0.0       Everyone   \n",
       "10765     3.4     622  0.020503     100,000+  Free    0.0     Mature 17+   \n",
       "10826     4.0   88486  0.020503   5,000,000+  Free    0.0     Mature 17+   \n",
       "10839     4.5     114  0.020503       1,000+  Free    0.0     Mature 17+   \n",
       "10840     4.5  398307  0.018992  10,000,000+  Free    0.0       Everyone   \n",
       "\n",
       "                  Genres      Last Updated         Current Ver  Android Ver  \n",
       "15          Art & Design      June 6, 2018                 NaN          4.2  \n",
       "42          Art & Design     July 30, 2018  Varies with device          NaN  \n",
       "52       Auto & Vehicles     July 30, 2018  Varies with device          NaN  \n",
       "67       Auto & Vehicles     July 30, 2018  Varies with device          NaN  \n",
       "68       Auto & Vehicles      May 25, 2018  Varies with device          NaN  \n",
       "...                  ...               ...                 ...          ...  \n",
       "10713            Weather     July 24, 2018  Varies with device          NaN  \n",
       "10765             Social      May 23, 2018  Varies with device          NaN  \n",
       "10826             Social    March 23, 2018  Varies with device          NaN  \n",
       "10839  Books & Reference  January 19, 2015  Varies with device          NaN  \n",
       "10840          Lifestyle     July 25, 2018  Varies with device          NaN  \n",
       "\n",
       "[1000 rows x 13 columns]"
      ]
     },
     "execution_count": 585,
     "metadata": {},
     "output_type": "execute_result"
    }
   ],
   "source": [
    "df[df.isna().any(axis=1)]"
   ]
  },
  {
   "cell_type": "code",
   "execution_count": 586,
   "metadata": {},
   "outputs": [],
   "source": [
    "df['Android Ver'] = df['Android Ver'].fillna(df['Android Ver'].min())"
   ]
  },
  {
   "cell_type": "code",
   "execution_count": 587,
   "metadata": {},
   "outputs": [
    {
     "name": "stdout",
     "output_type": "stream",
     "text": [
      "<class 'pandas.core.frame.DataFrame'>\n",
      "Index: 9659 entries, 0 to 10840\n",
      "Data columns (total 13 columns):\n",
      " #   Column          Non-Null Count  Dtype  \n",
      "---  ------          --------------  -----  \n",
      " 0   App             9659 non-null   object \n",
      " 1   Category        9659 non-null   object \n",
      " 2   Rating          9659 non-null   float64\n",
      " 3   Reviews         9659 non-null   object \n",
      " 4   Size            9659 non-null   float64\n",
      " 5   Installs        9659 non-null   object \n",
      " 6   Type            9658 non-null   object \n",
      " 7   Price           9659 non-null   float64\n",
      " 8   Content Rating  9659 non-null   object \n",
      " 9   Genres          9659 non-null   object \n",
      " 10  Last Updated    9659 non-null   object \n",
      " 11  Current Ver     9651 non-null   object \n",
      " 12  Android Ver     9659 non-null   float64\n",
      "dtypes: float64(4), object(9)\n",
      "memory usage: 1.0+ MB\n"
     ]
    }
   ],
   "source": [
    "df.info()"
   ]
  },
  {
   "cell_type": "markdown",
   "metadata": {},
   "source": [
    "### ✅ Fix Current Version"
   ]
  },
  {
   "cell_type": "code",
   "execution_count": 588,
   "metadata": {},
   "outputs": [
    {
     "name": "stdout",
     "output_type": "stream",
     "text": [
      "[  nan  1.1   1.    2.8   3.8   3.1   4.    1.5   1.03  6.    1.2   2.2\n",
      "  1.6   2.1   1.3   1.46 10.    3.    2.49  1.7   1.37  2.9   1.79  8.31\n",
      "  1.4   2.17  1.9   5.4   8.    1.15  2.    1.91  3.12  1.28  3.05  3.3\n",
      "  4.9   1.08  1.01  5.2   6.1   7.73  4.98  7.21  3.47  1.29  2.3   1.64\n",
      "  2.45  1.23  4.3   1.55  1.17  2.4   2.5   8.2   4.2   3.52  3.7   4.81\n",
      "  4.1   2.24  2.48  2.09  5.    1.16  1.02  7.3   8.06  8.1   4.43  8.4\n",
      "  1.57  1.75  1.11  1.14  8.18  4.63  2.13  5.1   2.12  7.12  4.26  5.23\n",
      "  2.6   3.4   3.48  5.3   4.4   6.7   7.    3.22  1.92  7.4   3.6   1.04\n",
      "  1.8   5.28  9.    5.8   2.15  4.35  5.66  3.5   5.06  1.24  1.93  1.76\n",
      "  6.2   3.15  1.49  2.7   1.73  2.18  7.32  1.18  1.22  1.47  3.49  1.19\n",
      "  7.5   3.46  2.29  3.19  4.36  5.11  6.6   0.1   1.12  5.51  2.69  2.16\n",
      "  4.89  7.36  3.9   6.21  4.47  1.43  1.32  4.7   3.2   4.5   4.21  6.71\n",
      "  6.5   5.5   5.9   7.1   5.48  4.6   5.36  1.51  1.33  1.13  2.85  2.41\n",
      "  6.07  2.32  8.9   1.78  2.71  5.17  8.3   9.1   5.38  5.7   1.39  4.76\n",
      "  8.6   1.58  1.05  1.52  1.35  1.09  2.23  2.14  5.26  2.44  3.01  1.53\n",
      "  5.21  7.46  1.42  9.55  2.07  3.42  0.11  2.03  2.31  1.07  1.36  1.06\n",
      "  8.8   0.16  3.04  1.94  4.54  2.92  3.11  1.62  2.94  1.77  1.26  1.25\n",
      "  4.16  2.01  0.8   0.33  1.54  2.11  7.2   6.4   1.38  2.25  7.8   4.05\n",
      "  1.85  2.04  1.48  2.42  2.55  3.55  2.22  5.54  2.53  2.28  2.21  1.21\n",
      "  0.12  3.61  2.02  7.6   4.8   1.31  4.72  1.98  1.41  4.11  6.95  0.7\n",
      "  2.47  2.46  2.38  3.82  6.24  0.99  3.21  4.84  1.82  2.79  7.7   4.38\n",
      "  3.29  2.95  4.75  1.56  1.67  5.19  5.03  2.05  1.96  3.67  0.2   2.98\n",
      "  6.93  0.5   3.16  1.44  0.22  3.98  8.5   1.27  2.51  0.35  1.95  6.08\n",
      "  3.33  0.62  3.45  5.13  8.02  0.3   0.6   3.07  6.11  2.08  1.59  2.96\n",
      "  3.08  0.59  2.52  7.95  3.95  0.9   0.24  0.86  2.27  3.36  8.7   1.74\n",
      "  1.72  6.04]\n"
     ]
    }
   ],
   "source": [
    "df['Current Ver'] = pd.to_numeric(df['Current Ver'], errors='coerce')\n",
    "\n",
    "df['Current Ver'] = df['Current Ver'].round(2)\n",
    "\n",
    "max_reasonable_version = 10.0  \n",
    "df['Current Ver'] = np.where(df['Current Ver'] > max_reasonable_version, max_reasonable_version, df['Current Ver'])\n",
    "\n",
    "print(df['Current Ver'].unique())"
   ]
  },
  {
   "cell_type": "code",
   "execution_count": 589,
   "metadata": {},
   "outputs": [
    {
     "name": "stdout",
     "output_type": "stream",
     "text": [
      "<class 'pandas.core.frame.DataFrame'>\n",
      "Index: 9659 entries, 0 to 10840\n",
      "Data columns (total 13 columns):\n",
      " #   Column          Non-Null Count  Dtype  \n",
      "---  ------          --------------  -----  \n",
      " 0   App             9659 non-null   object \n",
      " 1   Category        9659 non-null   object \n",
      " 2   Rating          9659 non-null   float64\n",
      " 3   Reviews         9659 non-null   object \n",
      " 4   Size            9659 non-null   float64\n",
      " 5   Installs        9659 non-null   object \n",
      " 6   Type            9658 non-null   object \n",
      " 7   Price           9659 non-null   float64\n",
      " 8   Content Rating  9659 non-null   object \n",
      " 9   Genres          9659 non-null   object \n",
      " 10  Last Updated    9659 non-null   object \n",
      " 11  Current Ver     3447 non-null   float64\n",
      " 12  Android Ver     9659 non-null   float64\n",
      "dtypes: float64(5), object(8)\n",
      "memory usage: 1.0+ MB\n"
     ]
    }
   ],
   "source": [
    "df.info()"
   ]
  },
  {
   "cell_type": "code",
   "execution_count": 590,
   "metadata": {},
   "outputs": [],
   "source": [
    "df['Current Ver'] = df['Current Ver'].fillna(df['Current Ver'].mode()[0])"
   ]
  },
  {
   "cell_type": "code",
   "execution_count": 591,
   "metadata": {},
   "outputs": [
    {
     "name": "stdout",
     "output_type": "stream",
     "text": [
      "<class 'pandas.core.frame.DataFrame'>\n",
      "Index: 9659 entries, 0 to 10840\n",
      "Data columns (total 13 columns):\n",
      " #   Column          Non-Null Count  Dtype  \n",
      "---  ------          --------------  -----  \n",
      " 0   App             9659 non-null   object \n",
      " 1   Category        9659 non-null   object \n",
      " 2   Rating          9659 non-null   float64\n",
      " 3   Reviews         9659 non-null   object \n",
      " 4   Size            9659 non-null   float64\n",
      " 5   Installs        9659 non-null   object \n",
      " 6   Type            9658 non-null   object \n",
      " 7   Price           9659 non-null   float64\n",
      " 8   Content Rating  9659 non-null   object \n",
      " 9   Genres          9659 non-null   object \n",
      " 10  Last Updated    9659 non-null   object \n",
      " 11  Current Ver     9659 non-null   float64\n",
      " 12  Android Ver     9659 non-null   float64\n",
      "dtypes: float64(5), object(8)\n",
      "memory usage: 1.0+ MB\n"
     ]
    }
   ],
   "source": [
    "df.info()"
   ]
  },
  {
   "cell_type": "code",
   "execution_count": 592,
   "metadata": {},
   "outputs": [
    {
     "data": {
      "application/vnd.microsoft.datawrangler.viewer.v0+json": {
       "columns": [
        {
         "name": "index",
         "rawType": "object",
         "type": "string"
        },
        {
         "name": "Rating",
         "rawType": "float64",
         "type": "float"
        },
        {
         "name": "Size",
         "rawType": "float64",
         "type": "float"
        },
        {
         "name": "Price",
         "rawType": "float64",
         "type": "float"
        },
        {
         "name": "Current Ver",
         "rawType": "float64",
         "type": "float"
        },
        {
         "name": "Android Ver",
         "rawType": "float64",
         "type": "float"
        }
       ],
       "conversionMethod": "pd.DataFrame",
       "ref": "db6912f1-e0eb-4fb1-858f-c595f6ec4c15",
       "rows": [
        [
         "count",
         "9659.0",
         "9659.0",
         "9659.0",
         "9659.0",
         "9659.0"
        ],
        [
         "mean",
         "4.1924422818097105",
         "0.02040171915434479",
         "1.0992990992856404",
         "1.5273289160368568",
         "3.5496324671291024"
        ],
        [
         "std",
         "0.4963970713562242",
         "0.020394133515440185",
         "16.85215190688174",
         "1.5859769386961378",
         "1.1816303917093245"
        ],
        [
         "min",
         "1.0",
         "0.0",
         "0.0",
         "0.1",
         "1.0"
        ],
        [
         "25%",
         "4.0",
         "0.005291544978132314",
         "0.0",
         "1.0",
         "2.3"
        ],
        [
         "50%",
         "4.3",
         "0.015991635928905398",
         "0.0",
         "1.0",
         "4.0"
        ],
        [
         "75%",
         "4.5",
         "0.024991712429555654",
         "0.0",
         "1.1",
         "4.1"
        ],
        [
         "max",
         "5.0",
         "0.09999234993497445",
         "400.0",
         "10.0",
         "8.0"
        ]
       ],
       "shape": {
        "columns": 5,
        "rows": 8
       }
      },
      "text/html": [
       "<div>\n",
       "<style scoped>\n",
       "    .dataframe tbody tr th:only-of-type {\n",
       "        vertical-align: middle;\n",
       "    }\n",
       "\n",
       "    .dataframe tbody tr th {\n",
       "        vertical-align: top;\n",
       "    }\n",
       "\n",
       "    .dataframe thead th {\n",
       "        text-align: right;\n",
       "    }\n",
       "</style>\n",
       "<table border=\"1\" class=\"dataframe\">\n",
       "  <thead>\n",
       "    <tr style=\"text-align: right;\">\n",
       "      <th></th>\n",
       "      <th>Rating</th>\n",
       "      <th>Size</th>\n",
       "      <th>Price</th>\n",
       "      <th>Current Ver</th>\n",
       "      <th>Android Ver</th>\n",
       "    </tr>\n",
       "  </thead>\n",
       "  <tbody>\n",
       "    <tr>\n",
       "      <th>count</th>\n",
       "      <td>9659.000000</td>\n",
       "      <td>9659.000000</td>\n",
       "      <td>9659.000000</td>\n",
       "      <td>9659.000000</td>\n",
       "      <td>9659.000000</td>\n",
       "    </tr>\n",
       "    <tr>\n",
       "      <th>mean</th>\n",
       "      <td>4.192442</td>\n",
       "      <td>0.020402</td>\n",
       "      <td>1.099299</td>\n",
       "      <td>1.527329</td>\n",
       "      <td>3.549632</td>\n",
       "    </tr>\n",
       "    <tr>\n",
       "      <th>std</th>\n",
       "      <td>0.496397</td>\n",
       "      <td>0.020394</td>\n",
       "      <td>16.852152</td>\n",
       "      <td>1.585977</td>\n",
       "      <td>1.181630</td>\n",
       "    </tr>\n",
       "    <tr>\n",
       "      <th>min</th>\n",
       "      <td>1.000000</td>\n",
       "      <td>0.000000</td>\n",
       "      <td>0.000000</td>\n",
       "      <td>0.100000</td>\n",
       "      <td>1.000000</td>\n",
       "    </tr>\n",
       "    <tr>\n",
       "      <th>25%</th>\n",
       "      <td>4.000000</td>\n",
       "      <td>0.005292</td>\n",
       "      <td>0.000000</td>\n",
       "      <td>1.000000</td>\n",
       "      <td>2.300000</td>\n",
       "    </tr>\n",
       "    <tr>\n",
       "      <th>50%</th>\n",
       "      <td>4.300000</td>\n",
       "      <td>0.015992</td>\n",
       "      <td>0.000000</td>\n",
       "      <td>1.000000</td>\n",
       "      <td>4.000000</td>\n",
       "    </tr>\n",
       "    <tr>\n",
       "      <th>75%</th>\n",
       "      <td>4.500000</td>\n",
       "      <td>0.024992</td>\n",
       "      <td>0.000000</td>\n",
       "      <td>1.100000</td>\n",
       "      <td>4.100000</td>\n",
       "    </tr>\n",
       "    <tr>\n",
       "      <th>max</th>\n",
       "      <td>5.000000</td>\n",
       "      <td>0.099992</td>\n",
       "      <td>400.000000</td>\n",
       "      <td>10.000000</td>\n",
       "      <td>8.000000</td>\n",
       "    </tr>\n",
       "  </tbody>\n",
       "</table>\n",
       "</div>"
      ],
      "text/plain": [
       "            Rating         Size        Price  Current Ver  Android Ver\n",
       "count  9659.000000  9659.000000  9659.000000  9659.000000  9659.000000\n",
       "mean      4.192442     0.020402     1.099299     1.527329     3.549632\n",
       "std       0.496397     0.020394    16.852152     1.585977     1.181630\n",
       "min       1.000000     0.000000     0.000000     0.100000     1.000000\n",
       "25%       4.000000     0.005292     0.000000     1.000000     2.300000\n",
       "50%       4.300000     0.015992     0.000000     1.000000     4.000000\n",
       "75%       4.500000     0.024992     0.000000     1.100000     4.100000\n",
       "max       5.000000     0.099992   400.000000    10.000000     8.000000"
      ]
     },
     "execution_count": 592,
     "metadata": {},
     "output_type": "execute_result"
    }
   ],
   "source": [
    "df.describe()"
   ]
  },
  {
   "cell_type": "code",
   "execution_count": 593,
   "metadata": {},
   "outputs": [
    {
     "data": {
      "image/png": "[encoded data removed]",
      "text/plain": [
       "<Figure size 800x500 with 1 Axes>"
      ]
     },
     "metadata": {},
     "output_type": "display_data"
    }
   ],
   "source": [
    "import matplotlib.pyplot as plt\n",
    "\n",
    "plt.figure(figsize=(8, 5))\n",
    "df['Current Ver'].hist(bins=30, color='skyblue', edgecolor='black')\n",
    "plt.title('Distribution of Current Versions')\n",
    "plt.xlabel('Current Version')\n",
    "plt.ylabel('Frequency')\n",
    "plt.show() "
   ]
  },
  {
   "cell_type": "markdown",
   "metadata": {},
   "source": [
    "### ✅ Fix Installs"
   ]
  },
  {
   "cell_type": "code",
   "execution_count": 594,
   "metadata": {},
   "outputs": [
    {
     "data": {
      "text/plain": [
       "array(['10,000+', '500,000+', '5,000,000+', '50,000,000+', '100,000+',\n",
       "       '50,000+', '1,000,000+', '10,000,000+', '5,000+', '100,000,000+',\n",
       "       '1,000,000,000+', '1,000+', '500,000,000+', '50+', '100+', '500+',\n",
       "       '10+', '1+', '5+', '0+', '0'], dtype=object)"
      ]
     },
     "execution_count": 594,
     "metadata": {},
     "output_type": "execute_result"
    }
   ],
   "source": [
    "df['Installs'].unique()"
   ]
  },
  {
   "cell_type": "code",
   "execution_count": 595,
   "metadata": {},
   "outputs": [
    {
     "data": {
      "text/plain": [
       "Installs\n",
       "1000000       1417\n",
       "100000        1112\n",
       "10000         1031\n",
       "10000000       937\n",
       "1000           888\n",
       "100            710\n",
       "5000000        607\n",
       "500000         505\n",
       "50000          469\n",
       "5000           468\n",
       "10             385\n",
       "500            328\n",
       "50             204\n",
       "50000000       202\n",
       "100000000      188\n",
       "5               82\n",
       "1               67\n",
       "500000000       24\n",
       "1000000000      20\n",
       "0               15\n",
       "Name: count, dtype: int64"
      ]
     },
     "execution_count": 595,
     "metadata": {},
     "output_type": "execute_result"
    }
   ],
   "source": [
    "df.Installs=df.Installs.apply(lambda x: x.strip('+'))\n",
    "df.Installs=df.Installs.apply(lambda x: x.replace(',',''))\n",
    "df.Installs=df.Installs.replace('Free',np.nan)\n",
    "df.Installs.value_counts()"
   ]
  },
  {
   "cell_type": "code",
   "execution_count": 596,
   "metadata": {},
   "outputs": [],
   "source": [
    "df['Installs'] = pd.to_numeric(df['Installs'], errors='coerce')"
   ]
  },
  {
   "cell_type": "markdown",
   "metadata": {},
   "source": [
    "### ✅ Fix Reviews "
   ]
  },
  {
   "cell_type": "code",
   "execution_count": 597,
   "metadata": {},
   "outputs": [
    {
     "data": {
      "text/plain": [
       "array(['159', '967', '87510', ..., '603', '1195', '398307'],\n",
       "      shape=(5330,), dtype=object)"
      ]
     },
     "execution_count": 597,
     "metadata": {},
     "output_type": "execute_result"
    }
   ],
   "source": [
    "df['Reviews'].unique()"
   ]
  },
  {
   "cell_type": "code",
   "execution_count": 598,
   "metadata": {},
   "outputs": [
    {
     "data": {
      "text/plain": [
       "Reviews\n",
       "0         593\n",
       "1         272\n",
       "2         213\n",
       "3         170\n",
       "4         137\n",
       "         ... \n",
       "885         1\n",
       "88486       1\n",
       "603         1\n",
       "1195        1\n",
       "398307      1\n",
       "Name: count, Length: 5330, dtype: int64"
      ]
     },
     "execution_count": 598,
     "metadata": {},
     "output_type": "execute_result"
    }
   ],
   "source": [
    "df['Reviews'].value_counts()"
   ]
  },
  {
   "cell_type": "code",
   "execution_count": 599,
   "metadata": {},
   "outputs": [],
   "source": [
    "df['Reviews'] = pd.to_numeric(df['Reviews'], errors='coerce') \n",
    "df['Reviews'] = df['Reviews'].fillna(df['Reviews'].median())"
   ]
  },
  {
   "cell_type": "code",
   "execution_count": 600,
   "metadata": {},
   "outputs": [
    {
     "name": "stdout",
     "output_type": "stream",
     "text": [
      "<class 'pandas.core.frame.DataFrame'>\n",
      "Index: 9659 entries, 0 to 10840\n",
      "Data columns (total 13 columns):\n",
      " #   Column          Non-Null Count  Dtype  \n",
      "---  ------          --------------  -----  \n",
      " 0   App             9659 non-null   object \n",
      " 1   Category        9659 non-null   object \n",
      " 2   Rating          9659 non-null   float64\n",
      " 3   Reviews         9659 non-null   int64  \n",
      " 4   Size            9659 non-null   float64\n",
      " 5   Installs        9659 non-null   int64  \n",
      " 6   Type            9658 non-null   object \n",
      " 7   Price           9659 non-null   float64\n",
      " 8   Content Rating  9659 non-null   object \n",
      " 9   Genres          9659 non-null   object \n",
      " 10  Last Updated    9659 non-null   object \n",
      " 11  Current Ver     9659 non-null   float64\n",
      " 12  Android Ver     9659 non-null   float64\n",
      "dtypes: float64(5), int64(2), object(6)\n",
      "memory usage: 1.0+ MB\n"
     ]
    }
   ],
   "source": [
    "df.info()"
   ]
  },
  {
   "cell_type": "markdown",
   "metadata": {},
   "source": [
    "### ✅ Fix Type "
   ]
  },
  {
   "cell_type": "code",
   "execution_count": 601,
   "metadata": {},
   "outputs": [
    {
     "data": {
      "text/plain": [
       "array(['Free', 'Paid', nan], dtype=object)"
      ]
     },
     "execution_count": 601,
     "metadata": {},
     "output_type": "execute_result"
    }
   ],
   "source": [
    "df['Type'].unique()"
   ]
  },
  {
   "cell_type": "code",
   "execution_count": 602,
   "metadata": {},
   "outputs": [],
   "source": [
    "df['Type'] = df['Type'].fillna('Free')"
   ]
  },
  {
   "cell_type": "markdown",
   "metadata": {},
   "source": [
    "### ✅ Outlier Detection and Handling"
   ]
  },
  {
   "cell_type": "markdown",
   "metadata": {},
   "source": []
  },
  {
   "cell_type": "code",
   "execution_count": 603,
   "metadata": {},
   "outputs": [
    {
     "data": {
      "image/png": "[encoded data removed]",
      "text/plain": [
       "<Figure size 1200x500 with 1 Axes>"
      ]
     },
     "metadata": {},
     "output_type": "display_data"
    }
   ],
   "source": [
    "import seaborn as sns\n",
    "import matplotlib.pyplot as plt\n",
    "\n",
    "plt.figure(figsize=(12, 5)) \n",
    "sns.boxplot(df)\n",
    "plt.show()\n"
   ]
  },
  {
   "cell_type": "code",
   "execution_count": 604,
   "metadata": {},
   "outputs": [
    {
     "name": "stdout",
     "output_type": "stream",
     "text": [
      "                                                     App        Category  \\\n",
      "2      U Launcher Lite – FREE Live Cool Themes, Hide ...  Art And Design   \n",
      "3                                  Sketch - Draw & Paint  Art And Design   \n",
      "18                         FlipaClip - Cartoon animation  Art And Design   \n",
      "19                                          ibis Paint X  Art And Design   \n",
      "42                            Textgram - write on photos  Art And Design   \n",
      "...                                                  ...             ...   \n",
      "10781                               Modern Strike Online            Game   \n",
      "10784                                         Big Hunter            Game   \n",
      "10809              Castle Clash: RPG War and Strategy FR          Family   \n",
      "10826          Frim: get new friends on local chat rooms          Social   \n",
      "10840      iHoroscope - 2018 Daily Horoscope & Astrology       Lifestyle   \n",
      "\n",
      "       Rating  Reviews      Size  Installs  Type  Price Content Rating  \\\n",
      "2         4.7    87510  0.008692   5000000  Free    0.0       Everyone   \n",
      "3         4.5   215644  0.024992  50000000  Free    0.0           Teen   \n",
      "18        4.3   194216  0.038992   5000000  Free    0.0       Everyone   \n",
      "19        4.6   224399  0.030992  10000000  Free    0.0       Everyone   \n",
      "42        4.4   295221  0.020503  10000000  Free    0.0       Everyone   \n",
      "...       ...      ...       ...       ...   ...    ...            ...   \n",
      "10781     4.3   834117  0.043992  10000000  Free    0.0           Teen   \n",
      "10784     4.3   245455  0.083992  10000000  Free    0.0   Everyone 10+   \n",
      "10809     4.7   376223  0.023992   1000000  Free    0.0       Everyone   \n",
      "10826     4.0    88486  0.020503   5000000  Free    0.0     Mature 17+   \n",
      "10840     4.5   398307  0.018992  10000000  Free    0.0       Everyone   \n",
      "\n",
      "             Genres    Last Updated  Current Ver  Android Ver  \n",
      "2      Art & Design  August 1, 2018          1.0          4.0  \n",
      "3      Art & Design    June 8, 2018          1.0          4.2  \n",
      "18     Art & Design  August 3, 2018          1.0          4.0  \n",
      "19     Art & Design   July 30, 2018          1.0          4.1  \n",
      "42     Art & Design   July 30, 2018          1.0          1.0  \n",
      "...             ...             ...          ...          ...  \n",
      "10781        Action   July 30, 2018          1.0          4.1  \n",
      "10784        Action    May 31, 2018          1.0          4.0  \n",
      "10809      Strategy   July 18, 2018          1.0          4.1  \n",
      "10826        Social  March 23, 2018          1.0          1.0  \n",
      "10840     Lifestyle   July 25, 2018          1.0          1.0  \n",
      "\n",
      "[1656 rows x 13 columns]\n"
     ]
    }
   ],
   "source": [
    "Q1 = df['Reviews'].quantile(0.25)\n",
    "Q3 = df['Reviews'].quantile(0.75)\n",
    "IQR = Q3 - Q1\n",
    "\n",
    "lower_bound = Q1 - 1.5 * IQR\n",
    "upper_bound = Q3 + 1.5 * IQR\n",
    "\n",
    "outliers = df[(df['Reviews'] < lower_bound) | (df['Reviews'] > upper_bound)]\n",
    "\n",
    "print(outliers)\n",
    "\n",
    "df_cleaned = df[(df['Reviews'] >= lower_bound) & (df['Reviews'] <= upper_bound)]\n",
    "\n",
    "df['Reviews'] = df['Reviews'].apply(lambda x: Q3 if x > upper_bound else x)"
   ]
  },
  {
   "cell_type": "code",
   "execution_count": 605,
   "metadata": {},
   "outputs": [],
   "source": [
    "Q1 = df['Installs'].quantile(0.25)\n",
    "Q3 = df['Installs'].quantile(0.75)\n",
    "IQR = Q3 - Q1\n",
    "upper_limit = Q3 + 1.5 * IQR\n",
    "\n",
    "df['Installs'] = np.where(df['Installs'] > upper_limit, upper_limit, df['Installs'])\n"
   ]
  },
  {
   "cell_type": "code",
   "execution_count": 606,
   "metadata": {},
   "outputs": [
    {
     "data": {
      "application/vnd.microsoft.datawrangler.viewer.v0+json": {
       "columns": [
        {
         "name": "index",
         "rawType": "object",
         "type": "string"
        },
        {
         "name": "Rating",
         "rawType": "float64",
         "type": "float"
        },
        {
         "name": "Reviews",
         "rawType": "float64",
         "type": "float"
        },
        {
         "name": "Size",
         "rawType": "float64",
         "type": "float"
        },
        {
         "name": "Installs",
         "rawType": "float64",
         "type": "float"
        },
        {
         "name": "Price",
         "rawType": "float64",
         "type": "float"
        },
        {
         "name": "Current Ver",
         "rawType": "float64",
         "type": "float"
        },
        {
         "name": "Android Ver",
         "rawType": "float64",
         "type": "float"
        }
       ],
       "conversionMethod": "pd.DataFrame",
       "ref": "5f6157b9-c35c-4d44-b639-c31f9e820511",
       "rows": [
        [
         "count",
         "9659.0",
         "9659.0",
         "9659.0",
         "9659.0",
         "9659.0",
         "9659.0",
         "9659.0"
        ],
        [
         "mean",
         "4.1924422818097105",
         "11073.07350657418",
         "0.02040171915434479",
         "699862.3591469097",
         "1.0992990992856404",
         "1.5273289160368568",
         "3.5496324671291024"
        ],
        [
         "std",
         "0.4963970713562242",
         "15782.95185027431",
         "0.020394133515440185",
         "974529.5739968135",
         "16.85215190688174",
         "1.5859769386961378",
         "1.1816303917093245"
        ],
        [
         "min",
         "1.0",
         "0.0",
         "0.0",
         "0.0",
         "0.0",
         "0.1",
         "1.0"
        ],
        [
         "25%",
         "4.0",
         "25.0",
         "0.005291544978132314",
         "1000.0",
         "0.0",
         "1.0",
         "2.3"
        ],
        [
         "50%",
         "4.3",
         "967.0",
         "0.015991635928905398",
         "100000.0",
         "0.0",
         "1.0",
         "4.0"
        ],
        [
         "75%",
         "4.5",
         "29394.0",
         "0.024991712429555654",
         "1000000.0",
         "0.0",
         "1.1",
         "4.1"
        ],
        [
         "max",
         "5.0",
         "73404.0",
         "0.09999234993497445",
         "2498500.0",
         "400.0",
         "10.0",
         "8.0"
        ]
       ],
       "shape": {
        "columns": 7,
        "rows": 8
       }
      },
      "text/html": [
       "<div>\n",
       "<style scoped>\n",
       "    .dataframe tbody tr th:only-of-type {\n",
       "        vertical-align: middle;\n",
       "    }\n",
       "\n",
       "    .dataframe tbody tr th {\n",
       "        vertical-align: top;\n",
       "    }\n",
       "\n",
       "    .dataframe thead th {\n",
       "        text-align: right;\n",
       "    }\n",
       "</style>\n",
       "<table border=\"1\" class=\"dataframe\">\n",
       "  <thead>\n",
       "    <tr style=\"text-align: right;\">\n",
       "      <th></th>\n",
       "      <th>Rating</th>\n",
       "      <th>Reviews</th>\n",
       "      <th>Size</th>\n",
       "      <th>Installs</th>\n",
       "      <th>Price</th>\n",
       "      <th>Current Ver</th>\n",
       "      <th>Android Ver</th>\n",
       "    </tr>\n",
       "  </thead>\n",
       "  <tbody>\n",
       "    <tr>\n",
       "      <th>count</th>\n",
       "      <td>9659.000000</td>\n",
       "      <td>9659.000000</td>\n",
       "      <td>9659.000000</td>\n",
       "      <td>9.659000e+03</td>\n",
       "      <td>9659.000000</td>\n",
       "      <td>9659.000000</td>\n",
       "      <td>9659.000000</td>\n",
       "    </tr>\n",
       "    <tr>\n",
       "      <th>mean</th>\n",
       "      <td>4.192442</td>\n",
       "      <td>11073.073507</td>\n",
       "      <td>0.020402</td>\n",
       "      <td>6.998624e+05</td>\n",
       "      <td>1.099299</td>\n",
       "      <td>1.527329</td>\n",
       "      <td>3.549632</td>\n",
       "    </tr>\n",
       "    <tr>\n",
       "      <th>std</th>\n",
       "      <td>0.496397</td>\n",
       "      <td>15782.951850</td>\n",
       "      <td>0.020394</td>\n",
       "      <td>9.745296e+05</td>\n",
       "      <td>16.852152</td>\n",
       "      <td>1.585977</td>\n",
       "      <td>1.181630</td>\n",
       "    </tr>\n",
       "    <tr>\n",
       "      <th>min</th>\n",
       "      <td>1.000000</td>\n",
       "      <td>0.000000</td>\n",
       "      <td>0.000000</td>\n",
       "      <td>0.000000e+00</td>\n",
       "      <td>0.000000</td>\n",
       "      <td>0.100000</td>\n",
       "      <td>1.000000</td>\n",
       "    </tr>\n",
       "    <tr>\n",
       "      <th>25%</th>\n",
       "      <td>4.000000</td>\n",
       "      <td>25.000000</td>\n",
       "      <td>0.005292</td>\n",
       "      <td>1.000000e+03</td>\n",
       "      <td>0.000000</td>\n",
       "      <td>1.000000</td>\n",
       "      <td>2.300000</td>\n",
       "    </tr>\n",
       "    <tr>\n",
       "      <th>50%</th>\n",
       "      <td>4.300000</td>\n",
       "      <td>967.000000</td>\n",
       "      <td>0.015992</td>\n",
       "      <td>1.000000e+05</td>\n",
       "      <td>0.000000</td>\n",
       "      <td>1.000000</td>\n",
       "      <td>4.000000</td>\n",
       "    </tr>\n",
       "    <tr>\n",
       "      <th>75%</th>\n",
       "      <td>4.500000</td>\n",
       "      <td>29394.000000</td>\n",
       "      <td>0.024992</td>\n",
       "      <td>1.000000e+06</td>\n",
       "      <td>0.000000</td>\n",
       "      <td>1.100000</td>\n",
       "      <td>4.100000</td>\n",
       "    </tr>\n",
       "    <tr>\n",
       "      <th>max</th>\n",
       "      <td>5.000000</td>\n",
       "      <td>73404.000000</td>\n",
       "      <td>0.099992</td>\n",
       "      <td>2.498500e+06</td>\n",
       "      <td>400.000000</td>\n",
       "      <td>10.000000</td>\n",
       "      <td>8.000000</td>\n",
       "    </tr>\n",
       "  </tbody>\n",
       "</table>\n",
       "</div>"
      ],
      "text/plain": [
       "            Rating       Reviews         Size      Installs        Price  \\\n",
       "count  9659.000000   9659.000000  9659.000000  9.659000e+03  9659.000000   \n",
       "mean      4.192442  11073.073507     0.020402  6.998624e+05     1.099299   \n",
       "std       0.496397  15782.951850     0.020394  9.745296e+05    16.852152   \n",
       "min       1.000000      0.000000     0.000000  0.000000e+00     0.000000   \n",
       "25%       4.000000     25.000000     0.005292  1.000000e+03     0.000000   \n",
       "50%       4.300000    967.000000     0.015992  1.000000e+05     0.000000   \n",
       "75%       4.500000  29394.000000     0.024992  1.000000e+06     0.000000   \n",
       "max       5.000000  73404.000000     0.099992  2.498500e+06   400.000000   \n",
       "\n",
       "       Current Ver  Android Ver  \n",
       "count  9659.000000  9659.000000  \n",
       "mean      1.527329     3.549632  \n",
       "std       1.585977     1.181630  \n",
       "min       0.100000     1.000000  \n",
       "25%       1.000000     2.300000  \n",
       "50%       1.000000     4.000000  \n",
       "75%       1.100000     4.100000  \n",
       "max      10.000000     8.000000  "
      ]
     },
     "execution_count": 606,
     "metadata": {},
     "output_type": "execute_result"
    }
   ],
   "source": [
    "df.describe()"
   ]
  },
  {
   "cell_type": "code",
   "execution_count": 607,
   "metadata": {},
   "outputs": [
    {
     "data": {
      "image/png": "[encoded data removed]",
      "text/plain": [
       "<Figure size 1200x400 with 1 Axes>"
      ]
     },
     "metadata": {},
     "output_type": "display_data"
    }
   ],
   "source": [
    "import seaborn as sns\n",
    "import matplotlib.pyplot as plt\n",
    "\n",
    "plt.figure(figsize=(12, 4)) \n",
    "sns.boxplot(df)\n",
    "plt.show()\n"
   ]
  },
  {
   "cell_type": "markdown",
   "metadata": {},
   "source": [
    "## Analytical Questions:"
   ]
  },
  {
   "cell_type": "code",
   "execution_count": 608,
   "metadata": {},
   "outputs": [
    {
     "data": {
      "application/vnd.microsoft.datawrangler.viewer.v0+json": {
       "columns": [
        {
         "name": "index",
         "rawType": "int64",
         "type": "integer"
        },
        {
         "name": "App",
         "rawType": "object",
         "type": "string"
        },
        {
         "name": "Category",
         "rawType": "object",
         "type": "string"
        },
        {
         "name": "Rating",
         "rawType": "float64",
         "type": "float"
        },
        {
         "name": "Reviews",
         "rawType": "float64",
         "type": "float"
        },
        {
         "name": "Size",
         "rawType": "float64",
         "type": "float"
        },
        {
         "name": "Installs",
         "rawType": "float64",
         "type": "float"
        },
        {
         "name": "Type",
         "rawType": "object",
         "type": "string"
        },
        {
         "name": "Price",
         "rawType": "float64",
         "type": "float"
        },
        {
         "name": "Content Rating",
         "rawType": "object",
         "type": "string"
        },
        {
         "name": "Genres",
         "rawType": "object",
         "type": "string"
        },
        {
         "name": "Last Updated",
         "rawType": "object",
         "type": "string"
        },
        {
         "name": "Current Ver",
         "rawType": "float64",
         "type": "float"
        },
        {
         "name": "Android Ver",
         "rawType": "float64",
         "type": "float"
        }
       ],
       "conversionMethod": "pd.DataFrame",
       "ref": "45549278-6db8-4bfa-86df-f302be349db3",
       "rows": [
        [
         "7374",
         "CI MOBI",
         "Family",
         "4.3",
         "108.0",
         "0.04199185693078391",
         "5000.0",
         "Free",
         "0.0",
         "Everyone",
         "Education",
         "October 7, 2017",
         "1.0",
         "4.0"
        ],
        [
         "1297",
         "Keep Trainer - Workout Trainer & Fitness Coach",
         "Health And Fitness",
         "4.7",
         "14810.0",
         "0.020503126843873325",
         "1000000.0",
         "Free",
         "0.0",
         "Everyone",
         "Health & Fitness",
         "July 24, 2018",
         "1.0",
         "1.0"
        ],
        [
         "10391",
         "Police VAZ LADA Simulator",
         "Family",
         "3.6",
         "3502.0",
         "0.060992018432156674",
         "500000.0",
         "Free",
         "0.0",
         "Teen",
         "Simulation",
         "September 11, 2016",
         "1.3",
         "2.3"
        ],
        [
         "555",
         "Heart mill",
         "Dating",
         "3.3",
         "4631.0",
         "0.04499188243100066",
         "100000.0",
         "Free",
         "0.0",
         "Mature 17+",
         "Dating",
         "August 4, 2018",
         "1.0",
         "5.0"
        ],
        [
         "1158",
         "Netspend Skylight ONE",
         "Finance",
         "3.9",
         "1098.0",
         "0.045991890931072914",
         "100000.0",
         "Free",
         "0.0",
         "Everyone",
         "Finance",
         "May 9, 2018",
         "1.0",
         "4.4"
        ],
        [
         "9893",
         "EU CBRNE Glossary",
         "Libraries And Demo",
         "4.3",
         "3.0",
         "0.019991669929194402",
         "500.0",
         "Free",
         "0.0",
         "Everyone",
         "Libraries & Demo",
         "June 15, 2016",
         "1.0",
         "4.4"
        ],
        [
         "8386",
         "DG Users",
         "Productivity",
         "4.5",
         "8.0",
         "0.003091526277973363",
         "100.0",
         "Free",
         "0.0",
         "Everyone",
         "Productivity",
         "June 7, 2018",
         "1.2",
         "4.0"
        ],
        [
         "8663",
         "Do Not Crash",
         "Family",
         "3.7",
         "56664.0",
         "0.008291570478349069",
         "1000000.0",
         "Free",
         "0.0",
         "Everyone",
         "Casual",
         "February 5, 2015",
         "1.4",
         "2.3"
        ],
        [
         "7875",
         "CT MyChiroTown Mobile",
         "Medical",
         "3.9",
         "40.0",
         "0.0039915339280383886",
         "5000.0",
         "Free",
         "0.0",
         "Everyone",
         "Medical",
         "July 7, 2015",
         "1.0",
         "2.3"
        ],
        [
         "2341",
         "HealtheLife",
         "Medical",
         "3.6",
         "190.0",
         "0.007691565378305717",
         "100000.0",
         "Free",
         "0.0",
         "Everyone",
         "Medical",
         "January 2, 2018",
         "1.0",
         "4.4"
        ]
       ],
       "shape": {
        "columns": 13,
        "rows": 10
       }
      },
      "text/html": [
       "<div>\n",
       "<style scoped>\n",
       "    .dataframe tbody tr th:only-of-type {\n",
       "        vertical-align: middle;\n",
       "    }\n",
       "\n",
       "    .dataframe tbody tr th {\n",
       "        vertical-align: top;\n",
       "    }\n",
       "\n",
       "    .dataframe thead th {\n",
       "        text-align: right;\n",
       "    }\n",
       "</style>\n",
       "<table border=\"1\" class=\"dataframe\">\n",
       "  <thead>\n",
       "    <tr style=\"text-align: right;\">\n",
       "      <th></th>\n",
       "      <th>App</th>\n",
       "      <th>Category</th>\n",
       "      <th>Rating</th>\n",
       "      <th>Reviews</th>\n",
       "      <th>Size</th>\n",
       "      <th>Installs</th>\n",
       "      <th>Type</th>\n",
       "      <th>Price</th>\n",
       "      <th>Content Rating</th>\n",
       "      <th>Genres</th>\n",
       "      <th>Last Updated</th>\n",
       "      <th>Current Ver</th>\n",
       "      <th>Android Ver</th>\n",
       "    </tr>\n",
       "  </thead>\n",
       "  <tbody>\n",
       "    <tr>\n",
       "      <th>7374</th>\n",
       "      <td>CI MOBI</td>\n",
       "      <td>Family</td>\n",
       "      <td>4.3</td>\n",
       "      <td>108.0</td>\n",
       "      <td>0.041992</td>\n",
       "      <td>5000.0</td>\n",
       "      <td>Free</td>\n",
       "      <td>0.0</td>\n",
       "      <td>Everyone</td>\n",
       "      <td>Education</td>\n",
       "      <td>October 7, 2017</td>\n",
       "      <td>1.0</td>\n",
       "      <td>4.0</td>\n",
       "    </tr>\n",
       "    <tr>\n",
       "      <th>1297</th>\n",
       "      <td>Keep Trainer - Workout Trainer &amp; Fitness Coach</td>\n",
       "      <td>Health And Fitness</td>\n",
       "      <td>4.7</td>\n",
       "      <td>14810.0</td>\n",
       "      <td>0.020503</td>\n",
       "      <td>1000000.0</td>\n",
       "      <td>Free</td>\n",
       "      <td>0.0</td>\n",
       "      <td>Everyone</td>\n",
       "      <td>Health &amp; Fitness</td>\n",
       "      <td>July 24, 2018</td>\n",
       "      <td>1.0</td>\n",
       "      <td>1.0</td>\n",
       "    </tr>\n",
       "    <tr>\n",
       "      <th>10391</th>\n",
       "      <td>Police VAZ LADA Simulator</td>\n",
       "      <td>Family</td>\n",
       "      <td>3.6</td>\n",
       "      <td>3502.0</td>\n",
       "      <td>0.060992</td>\n",
       "      <td>500000.0</td>\n",
       "      <td>Free</td>\n",
       "      <td>0.0</td>\n",
       "      <td>Teen</td>\n",
       "      <td>Simulation</td>\n",
       "      <td>September 11, 2016</td>\n",
       "      <td>1.3</td>\n",
       "      <td>2.3</td>\n",
       "    </tr>\n",
       "    <tr>\n",
       "      <th>555</th>\n",
       "      <td>Heart mill</td>\n",
       "      <td>Dating</td>\n",
       "      <td>3.3</td>\n",
       "      <td>4631.0</td>\n",
       "      <td>0.044992</td>\n",
       "      <td>100000.0</td>\n",
       "      <td>Free</td>\n",
       "      <td>0.0</td>\n",
       "      <td>Mature 17+</td>\n",
       "      <td>Dating</td>\n",
       "      <td>August 4, 2018</td>\n",
       "      <td>1.0</td>\n",
       "      <td>5.0</td>\n",
       "    </tr>\n",
       "    <tr>\n",
       "      <th>1158</th>\n",
       "      <td>Netspend Skylight ONE</td>\n",
       "      <td>Finance</td>\n",
       "      <td>3.9</td>\n",
       "      <td>1098.0</td>\n",
       "      <td>0.045992</td>\n",
       "      <td>100000.0</td>\n",
       "      <td>Free</td>\n",
       "      <td>0.0</td>\n",
       "      <td>Everyone</td>\n",
       "      <td>Finance</td>\n",
       "      <td>May 9, 2018</td>\n",
       "      <td>1.0</td>\n",
       "      <td>4.4</td>\n",
       "    </tr>\n",
       "    <tr>\n",
       "      <th>9893</th>\n",
       "      <td>EU CBRNE Glossary</td>\n",
       "      <td>Libraries And Demo</td>\n",
       "      <td>4.3</td>\n",
       "      <td>3.0</td>\n",
       "      <td>0.019992</td>\n",
       "      <td>500.0</td>\n",
       "      <td>Free</td>\n",
       "      <td>0.0</td>\n",
       "      <td>Everyone</td>\n",
       "      <td>Libraries &amp; Demo</td>\n",
       "      <td>June 15, 2016</td>\n",
       "      <td>1.0</td>\n",
       "      <td>4.4</td>\n",
       "    </tr>\n",
       "    <tr>\n",
       "      <th>8386</th>\n",
       "      <td>DG Users</td>\n",
       "      <td>Productivity</td>\n",
       "      <td>4.5</td>\n",
       "      <td>8.0</td>\n",
       "      <td>0.003092</td>\n",
       "      <td>100.0</td>\n",
       "      <td>Free</td>\n",
       "      <td>0.0</td>\n",
       "      <td>Everyone</td>\n",
       "      <td>Productivity</td>\n",
       "      <td>June 7, 2018</td>\n",
       "      <td>1.2</td>\n",
       "      <td>4.0</td>\n",
       "    </tr>\n",
       "    <tr>\n",
       "      <th>8663</th>\n",
       "      <td>Do Not Crash</td>\n",
       "      <td>Family</td>\n",
       "      <td>3.7</td>\n",
       "      <td>56664.0</td>\n",
       "      <td>0.008292</td>\n",
       "      <td>1000000.0</td>\n",
       "      <td>Free</td>\n",
       "      <td>0.0</td>\n",
       "      <td>Everyone</td>\n",
       "      <td>Casual</td>\n",
       "      <td>February 5, 2015</td>\n",
       "      <td>1.4</td>\n",
       "      <td>2.3</td>\n",
       "    </tr>\n",
       "    <tr>\n",
       "      <th>7875</th>\n",
       "      <td>CT MyChiroTown Mobile</td>\n",
       "      <td>Medical</td>\n",
       "      <td>3.9</td>\n",
       "      <td>40.0</td>\n",
       "      <td>0.003992</td>\n",
       "      <td>5000.0</td>\n",
       "      <td>Free</td>\n",
       "      <td>0.0</td>\n",
       "      <td>Everyone</td>\n",
       "      <td>Medical</td>\n",
       "      <td>July 7, 2015</td>\n",
       "      <td>1.0</td>\n",
       "      <td>2.3</td>\n",
       "    </tr>\n",
       "    <tr>\n",
       "      <th>2341</th>\n",
       "      <td>HealtheLife</td>\n",
       "      <td>Medical</td>\n",
       "      <td>3.6</td>\n",
       "      <td>190.0</td>\n",
       "      <td>0.007692</td>\n",
       "      <td>100000.0</td>\n",
       "      <td>Free</td>\n",
       "      <td>0.0</td>\n",
       "      <td>Everyone</td>\n",
       "      <td>Medical</td>\n",
       "      <td>January 2, 2018</td>\n",
       "      <td>1.0</td>\n",
       "      <td>4.4</td>\n",
       "    </tr>\n",
       "  </tbody>\n",
       "</table>\n",
       "</div>"
      ],
      "text/plain": [
       "                                                  App            Category  \\\n",
       "7374                                          CI MOBI              Family   \n",
       "1297   Keep Trainer - Workout Trainer & Fitness Coach  Health And Fitness   \n",
       "10391                       Police VAZ LADA Simulator              Family   \n",
       "555                                        Heart mill              Dating   \n",
       "1158                            Netspend Skylight ONE             Finance   \n",
       "9893                                EU CBRNE Glossary  Libraries And Demo   \n",
       "8386                                         DG Users        Productivity   \n",
       "8663                                     Do Not Crash              Family   \n",
       "7875                            CT MyChiroTown Mobile             Medical   \n",
       "2341                                      HealtheLife             Medical   \n",
       "\n",
       "       Rating  Reviews      Size   Installs  Type  Price Content Rating  \\\n",
       "7374      4.3    108.0  0.041992     5000.0  Free    0.0       Everyone   \n",
       "1297      4.7  14810.0  0.020503  1000000.0  Free    0.0       Everyone   \n",
       "10391     3.6   3502.0  0.060992   500000.0  Free    0.0           Teen   \n",
       "555       3.3   4631.0  0.044992   100000.0  Free    0.0     Mature 17+   \n",
       "1158      3.9   1098.0  0.045992   100000.0  Free    0.0       Everyone   \n",
       "9893      4.3      3.0  0.019992      500.0  Free    0.0       Everyone   \n",
       "8386      4.5      8.0  0.003092      100.0  Free    0.0       Everyone   \n",
       "8663      3.7  56664.0  0.008292  1000000.0  Free    0.0       Everyone   \n",
       "7875      3.9     40.0  0.003992     5000.0  Free    0.0       Everyone   \n",
       "2341      3.6    190.0  0.007692   100000.0  Free    0.0       Everyone   \n",
       "\n",
       "                 Genres        Last Updated  Current Ver  Android Ver  \n",
       "7374          Education     October 7, 2017          1.0          4.0  \n",
       "1297   Health & Fitness       July 24, 2018          1.0          1.0  \n",
       "10391        Simulation  September 11, 2016          1.3          2.3  \n",
       "555              Dating      August 4, 2018          1.0          5.0  \n",
       "1158            Finance         May 9, 2018          1.0          4.4  \n",
       "9893   Libraries & Demo       June 15, 2016          1.0          4.4  \n",
       "8386       Productivity        June 7, 2018          1.2          4.0  \n",
       "8663             Casual    February 5, 2015          1.4          2.3  \n",
       "7875            Medical        July 7, 2015          1.0          2.3  \n",
       "2341            Medical     January 2, 2018          1.0          4.4  "
      ]
     },
     "execution_count": 608,
     "metadata": {},
     "output_type": "execute_result"
    }
   ],
   "source": [
    "df.sample(10)"
   ]
  },
  {
   "cell_type": "markdown",
   "metadata": {},
   "source": [
    "### 1. What is the most expensive app on the Play Store?"
   ]
  },
  {
   "cell_type": "code",
   "execution_count": 609,
   "metadata": {},
   "outputs": [
    {
     "name": "stdout",
     "output_type": "stream",
     "text": [
      "                           App  Price\n",
      "4367  I'm Rich - Trump Edition  400.0\n"
     ]
    }
   ],
   "source": [
    "most_expensive_app = df[df['Price'] == df['Price'].max()]\n",
    "print(most_expensive_app[['App', 'Price']])"
   ]
  },
  {
   "cell_type": "markdown",
   "metadata": {},
   "source": [
    "### 2. Which genre has the highest number of apps?"
   ]
  },
  {
   "cell_type": "code",
   "execution_count": 610,
   "metadata": {},
   "outputs": [
    {
     "name": "stdout",
     "output_type": "stream",
     "text": [
      "The genre with the highest number of apps is 'Tools' with 826 apps.\n"
     ]
    }
   ],
   "source": [
    "genre_counts = df['Genres'].value_counts()\n",
    "most_common_genre = genre_counts.idxmax()\n",
    "most_common_count = genre_counts.max()\n",
    "print(f\"The genre with the highest number of apps is '{most_common_genre}' with {most_common_count} apps.\")"
   ]
  },
  {
   "cell_type": "markdown",
   "metadata": {},
   "source": [
    "### 3. What is the average size of free vs. paid apps?"
   ]
  },
  {
   "cell_type": "code",
   "execution_count": 611,
   "metadata": {},
   "outputs": [
    {
     "name": "stdout",
     "output_type": "stream",
     "text": [
      "Type\n",
      "Free    0.02\n",
      "Paid    0.02\n",
      "Name: Size, dtype: float64\n"
     ]
    }
   ],
   "source": [
    "df['Type'] = df['Price'].apply(lambda x: 'Free' if x == 0 else 'Paid')\n",
    "average_size = df.groupby('Type')['Size'].mean().round(2)\n",
    "print(average_size)\n"
   ]
  },
  {
   "cell_type": "markdown",
   "metadata": {},
   "source": [
    "### 4. What are the top 5 most expensive apps with a perfect rating (5)?"
   ]
  },
  {
   "cell_type": "code",
   "execution_count": 612,
   "metadata": {},
   "outputs": [
    {
     "data": {
      "application/vnd.microsoft.datawrangler.viewer.v0+json": {
       "columns": [
        {
         "name": "index",
         "rawType": "int64",
         "type": "integer"
        },
        {
         "name": "App",
         "rawType": "object",
         "type": "string"
        },
        {
         "name": "Price",
         "rawType": "float64",
         "type": "float"
        },
        {
         "name": "Rating",
         "rawType": "float64",
         "type": "float"
        }
       ],
       "conversionMethod": "pd.DataFrame",
       "ref": "0e4edd83-fe72-4d82-becc-fdfcc0d2df18",
       "rows": [
        [
         "5489",
         "AP Art History Flashcards",
         "29.99",
         "5.0"
        ],
        [
         "7477",
         "USMLE Step 2 CK Flashcards",
         "19.99",
         "5.0"
        ],
        [
         "5482",
         "meStudying: AP English Lit",
         "4.99",
         "5.0"
        ],
        [
         "7204",
         "TI-84 CE Graphing Calculator Manual TI 84",
         "4.99",
         "5.0"
        ],
        [
         "5246",
         "Hey AJ! It's Bedtime!",
         "4.99",
         "5.0"
        ]
       ],
       "shape": {
        "columns": 3,
        "rows": 5
       }
      },
      "text/html": [
       "<div>\n",
       "<style scoped>\n",
       "    .dataframe tbody tr th:only-of-type {\n",
       "        vertical-align: middle;\n",
       "    }\n",
       "\n",
       "    .dataframe tbody tr th {\n",
       "        vertical-align: top;\n",
       "    }\n",
       "\n",
       "    .dataframe thead th {\n",
       "        text-align: right;\n",
       "    }\n",
       "</style>\n",
       "<table border=\"1\" class=\"dataframe\">\n",
       "  <thead>\n",
       "    <tr style=\"text-align: right;\">\n",
       "      <th></th>\n",
       "      <th>App</th>\n",
       "      <th>Price</th>\n",
       "      <th>Rating</th>\n",
       "    </tr>\n",
       "  </thead>\n",
       "  <tbody>\n",
       "    <tr>\n",
       "      <th>5489</th>\n",
       "      <td>AP Art History Flashcards</td>\n",
       "      <td>29.99</td>\n",
       "      <td>5.0</td>\n",
       "    </tr>\n",
       "    <tr>\n",
       "      <th>7477</th>\n",
       "      <td>USMLE Step 2 CK Flashcards</td>\n",
       "      <td>19.99</td>\n",
       "      <td>5.0</td>\n",
       "    </tr>\n",
       "    <tr>\n",
       "      <th>5482</th>\n",
       "      <td>meStudying: AP English Lit</td>\n",
       "      <td>4.99</td>\n",
       "      <td>5.0</td>\n",
       "    </tr>\n",
       "    <tr>\n",
       "      <th>7204</th>\n",
       "      <td>TI-84 CE Graphing Calculator Manual TI 84</td>\n",
       "      <td>4.99</td>\n",
       "      <td>5.0</td>\n",
       "    </tr>\n",
       "    <tr>\n",
       "      <th>5246</th>\n",
       "      <td>Hey AJ! It's Bedtime!</td>\n",
       "      <td>4.99</td>\n",
       "      <td>5.0</td>\n",
       "    </tr>\n",
       "  </tbody>\n",
       "</table>\n",
       "</div>"
      ],
      "text/plain": [
       "                                            App  Price  Rating\n",
       "5489                  AP Art History Flashcards  29.99     5.0\n",
       "7477                 USMLE Step 2 CK Flashcards  19.99     5.0\n",
       "5482                 meStudying: AP English Lit   4.99     5.0\n",
       "7204  TI-84 CE Graphing Calculator Manual TI 84   4.99     5.0\n",
       "5246                      Hey AJ! It's Bedtime!   4.99     5.0"
      ]
     },
     "execution_count": 612,
     "metadata": {},
     "output_type": "execute_result"
    }
   ],
   "source": [
    "perfect_rating_apps = df[df['Rating'] == 5]\n",
    "top_5_expensive_perfect = perfect_rating_apps.sort_values(by='Price', ascending=False).head(5)\n",
    "top_5_expensive_perfect[['App', 'Price', 'Rating']]"
   ]
  },
  {
   "cell_type": "markdown",
   "metadata": {},
   "source": [
    "### 5. How many apps have received more than 50K reviews?"
   ]
  },
  {
   "cell_type": "code",
   "execution_count": 613,
   "metadata": {},
   "outputs": [
    {
     "name": "stdout",
     "output_type": "stream",
     "text": [
      "Number of apps with more than 50K reviews: 289\n"
     ]
    }
   ],
   "source": [
    "num_apps_over_50k_reviews = df[df['Reviews'] > 50000].shape[0]\n",
    "print(f\"Number of apps with more than 50K reviews: {num_apps_over_50k_reviews}\")\n"
   ]
  },
  {
   "cell_type": "markdown",
   "metadata": {},
   "source": [
    "### 6. What is the average price of apps, grouped by genre and number of installs?"
   ]
  },
  {
   "cell_type": "code",
   "execution_count": 614,
   "metadata": {},
   "outputs": [
    {
     "name": "stdout",
     "output_type": "stream",
     "text": [
      "     Genres   Installs     Price\n",
      "0    Action       10.0  0.000000\n",
      "1    Action       50.0  0.663333\n",
      "2    Action      100.0  1.096000\n",
      "3    Action      500.0  0.000000\n",
      "4    Action     1000.0  0.372500\n",
      "..      ...        ...       ...\n",
      "774    Word    10000.0  0.000000\n",
      "775    Word    50000.0  0.000000\n",
      "776    Word   100000.0  0.000000\n",
      "777    Word  1000000.0  0.000000\n",
      "778    Word  2498500.0  0.000000\n",
      "\n",
      "[779 rows x 3 columns]\n"
     ]
    }
   ],
   "source": [
    "average_price_by_genre_installs = df.groupby(['Genres', 'Installs'])['Price'].mean().reset_index()\n",
    "\n",
    "print(average_price_by_genre_installs)\n"
   ]
  },
  {
   "cell_type": "markdown",
   "metadata": {},
   "source": [
    "### 7. How many apps have a rating higher than 4.7, and what is their average price?"
   ]
  },
  {
   "cell_type": "code",
   "execution_count": 615,
   "metadata": {},
   "outputs": [
    {
     "name": "stdout",
     "output_type": "stream",
     "text": [
      "Number of apps with rating > 4.7: 577\n",
      "Average price of these apps: $0.46\n"
     ]
    }
   ],
   "source": [
    "high_rating_apps = df[df['Rating'] > 4.7]\n",
    "\n",
    "num_high_rating_apps = high_rating_apps.shape[0]\n",
    "\n",
    "average_price_high_rating = high_rating_apps['Price'].mean().round(2)\n",
    "\n",
    "print(f\"Number of apps with rating > 4.7: {num_high_rating_apps}\")\n",
    "print(f\"Average price of these apps: ${average_price_high_rating}\")"
   ]
  },
  {
   "cell_type": "markdown",
   "metadata": {},
   "source": [
    "### 8. What is Google&#39;s estimated revenue from apps with 5,000,000+ installs?\n",
    "(Assuming Google takes a 30% cut from app sales)"
   ]
  },
  {
   "cell_type": "code",
   "execution_count": 616,
   "metadata": {},
   "outputs": [
    {
     "name": "stdout",
     "output_type": "stream",
     "text": [
      "<class 'pandas.core.frame.DataFrame'>\n",
      "Index: 9659 entries, 0 to 10840\n",
      "Data columns (total 13 columns):\n",
      " #   Column          Non-Null Count  Dtype  \n",
      "---  ------          --------------  -----  \n",
      " 0   App             9659 non-null   object \n",
      " 1   Category        9659 non-null   object \n",
      " 2   Rating          9659 non-null   float64\n",
      " 3   Reviews         9659 non-null   float64\n",
      " 4   Size            9659 non-null   float64\n",
      " 5   Installs        9659 non-null   float64\n",
      " 6   Type            9659 non-null   object \n",
      " 7   Price           9659 non-null   float64\n",
      " 8   Content Rating  9659 non-null   object \n",
      " 9   Genres          9659 non-null   object \n",
      " 10  Last Updated    9659 non-null   object \n",
      " 11  Current Ver     9659 non-null   float64\n",
      " 12  Android Ver     9659 non-null   float64\n",
      "dtypes: float64(7), object(6)\n",
      "memory usage: 1.0+ MB\n"
     ]
    }
   ],
   "source": [
    "df.info()"
   ]
  },
  {
   "cell_type": "code",
   "execution_count": 617,
   "metadata": {},
   "outputs": [
    {
     "name": "stdout",
     "output_type": "stream",
     "text": [
      "Google's estimated revenue from apps with 5M+ installs: $0.0\n"
     ]
    }
   ],
   "source": [
    "high_install_apps = df[df['Installs'] >= 5000000].copy()\n",
    "\n",
    "high_install_apps.loc[:, 'Google_Revenue'] = (high_install_apps['Installs'] * high_install_apps['Price'] * 0.30)\n",
    "\n",
    "total_google_revenue = high_install_apps['Google_Revenue'].sum().round(2)\n",
    "\n",
    "print(f\"Google's estimated revenue from apps with 5M+ installs: ${total_google_revenue:,}\")\n"
   ]
  },
  {
   "cell_type": "markdown",
   "metadata": {},
   "source": [
    "### 9. What are the maximum and minimum sizes of free vs. paid apps?"
   ]
  },
  {
   "cell_type": "code",
   "execution_count": 618,
   "metadata": {},
   "outputs": [
    {
     "name": "stdout",
     "output_type": "stream",
     "text": [
      "Maximum size of free apps: 0.09999234993497445\n",
      "Minimum size of free apps: 0.0\n",
      "Maximum size of paid apps: 0.09999234993497445\n",
      "Minimum size of paid apps: 5.500046750397378e-06\n"
     ]
    }
   ],
   "source": [
    "free_apps = df[df['Price'] == 0]\n",
    "paid_apps = df[df['Price'] > 0]\n",
    "\n",
    "max_size_free = free_apps['Size'].max()\n",
    "min_size_free = free_apps['Size'].min()\n",
    "\n",
    "max_size_paid = paid_apps['Size'].max()\n",
    "min_size_paid = paid_apps['Size'].min()\n",
    "\n",
    "print(f\"Maximum size of free apps: {max_size_free}\")\n",
    "print(f\"Minimum size of free apps: {min_size_free}\")\n",
    "print(f\"Maximum size of paid apps: {max_size_paid}\")\n",
    "print(f\"Minimum size of paid apps: {min_size_paid}\")\n"
   ]
  },
  {
   "cell_type": "code",
   "execution_count": 619,
   "metadata": {},
   "outputs": [
    {
     "data": {
      "image/png": "[encoded data removed]",
      "text/plain": [
       "<Figure size 1000x300 with 1 Axes>"
      ]
     },
     "metadata": {},
     "output_type": "display_data"
    }
   ],
   "source": [
    "import matplotlib.pyplot as plt\n",
    "import seaborn as sns\n",
    "\n",
    "ree_apps = df[df['Price'] == 0]\n",
    "paid_apps = df[df['Price'] > 0]\n",
    "\n",
    "plt.figure(figsize=(10, 3))\n",
    "\n",
    "plt.subplot(1, 2, 2)\n",
    "sns.histplot(free_apps['Size'], label='Free', color='skyblue', kde=True, bins=30, alpha=0.7)\n",
    "sns.histplot(paid_apps['Size'], label='Paid', color='salmon', kde=True, bins=30, alpha=0.7)\n",
    "plt.title('Histogram of App Sizes (Free vs Paid)')\n",
    "plt.xlabel('Size')\n",
    "plt.ylabel('Frequency')\n",
    "plt.legend()\n",
    "\n",
    "plt.show()\n"
   ]
  },
  {
   "cell_type": "markdown",
   "metadata": {},
   "source": [
    "### 10. Is there a correlation between an app’s rating, number of reviews, size, and its price?"
   ]
  },
  {
   "cell_type": "code",
   "execution_count": 620,
   "metadata": {},
   "outputs": [
    {
     "name": "stdout",
     "output_type": "stream",
     "text": [
      "           Rating   Reviews      Size     Price\n",
      "Rating   1.000000  0.145637  0.044062 -0.018662\n",
      "Reviews  0.145637  1.000000  0.261295 -0.040500\n",
      "Size     0.044062  0.261295  1.000000 -0.022466\n",
      "Price   -0.018662 -0.040500 -0.022466  1.000000\n"
     ]
    }
   ],
   "source": [
    "correlation_matrix = df[['Rating', 'Reviews', 'Size', 'Price']].corr()\n",
    "print(correlation_matrix)"
   ]
  },
  {
   "cell_type": "code",
   "execution_count": 621,
   "metadata": {},
   "outputs": [
    {
     "data": {
      "image/png": "[encoded data removed]",
      "text/plain": [
       "<Figure size 800x400 with 2 Axes>"
      ]
     },
     "metadata": {},
     "output_type": "display_data"
    }
   ],
   "source": [
    "correlation_df = df[['Rating', 'Reviews', 'Size', 'Price']]\n",
    "correlation_matrix = correlation_df.corr(method='pearson')\n",
    "\n",
    "plt.figure(figsize=(8, 4))\n",
    "sns.heatmap(correlation_matrix, annot=True, cmap='coolwarm', fmt='.2f', linewidths=1, linecolor='black')\n",
    "plt.title('Correlation Matrix of Rating, Reviews, Size, and Price')\n",
    "plt.show()"
   ]
  },
  {
   "cell_type": "markdown",
   "metadata": {},
   "source": [
    "### 11. How many apps exist for each type (free/paid) across different content ratings?"
   ]
  },
  {
   "cell_type": "code",
   "execution_count": 622,
   "metadata": {},
   "outputs": [
    {
     "name": "stdout",
     "output_type": "stream",
     "text": [
      "    Content Rating  Type  Count\n",
      "0  Adults only 18+  Free      3\n",
      "1         Everyone  Free   7248\n",
      "2         Everyone  Paid    655\n",
      "3     Everyone 10+  Free    291\n",
      "4     Everyone 10+  Paid     31\n",
      "5       Mature 17+  Free    375\n",
      "6       Mature 17+  Paid     18\n",
      "7             Teen  Free    984\n",
      "8             Teen  Paid     52\n",
      "9          Unrated  Free      2\n"
     ]
    }
   ],
   "source": [
    "app_counts = df.groupby(['Content Rating', 'Type']).size().reset_index(name='Count')\n",
    "print(app_counts)"
   ]
  },
  {
   "cell_type": "code",
   "execution_count": 623,
   "metadata": {},
   "outputs": [
    {
     "data": {
      "image/png": "[encoded data removed]",
      "text/plain": [
       "<Figure size 1000x400 with 1 Axes>"
      ]
     },
     "metadata": {},
     "output_type": "display_data"
    }
   ],
   "source": [
    "plt.figure(figsize=(10, 4))\n",
    "ax = sns.barplot(data=app_counts, x='Content Rating', y='Count', hue='Type', palette='coolwarm')\n",
    "\n",
    "for p in ax.patches:\n",
    "    ax.annotate(format(p.get_height(), '.0f'), \n",
    "                (p.get_x() + p.get_width() / 2., p.get_height()),  \n",
    "                ha='center', va='center', fontsize=10, color='black', xytext=(0, 5), textcoords='offset points')\n",
    "\n",
    "\n",
    "plt.title('Number of Free vs Paid Apps Across Content Ratings', fontsize=16)\n",
    "plt.xlabel('Content Rating', fontsize=12)\n",
    "plt.ylabel('Number of Apps', fontsize=12)\n",
    "plt.xticks(rotation=45)\n",
    "plt.legend(title='App Type')\n",
    "\n",
    "plt.show()\n"
   ]
  },
  {
   "cell_type": "markdown",
   "metadata": {},
   "source": [
    "### 12. How many apps are compatible with Android version 4.x?"
   ]
  },
  {
   "cell_type": "code",
   "execution_count": 624,
   "metadata": {},
   "outputs": [
    {
     "name": "stdout",
     "output_type": "stream",
     "text": [
      "Number of apps compatible with Android version 4.x: 6307\n"
     ]
    }
   ],
   "source": [
    "android_4x_apps = df[df['Android Ver'].astype(str).str.startswith('4.')]\n",
    "num_android_4x_apps = android_4x_apps.shape[0]\n",
    "\n",
    "print(f\"Number of apps compatible with Android version 4.x: {num_android_4x_apps}\")"
   ]
  }
 ],
 "metadata": {
  "kernelspec": {
   "display_name": "Python 3",
   "language": "python",
   "name": "python3"
  },
  "language_info": {
   "codemirror_mode": {
    "name": "ipython",
    "version": 3
   },
   "file_extension": ".py",
   "mimetype": "text/x-python",
   "name": "python",
   "nbconvert_exporter": "python",
   "pygments_lexer": "ipython3",
   "version": "3.11.9"
  }
 },
 "nbformat": 4,
 "nbformat_minor": 2
}
